{
 "cells": [
  {
   "cell_type": "markdown",
   "metadata": {},
   "source": [
    "<style>\n",
    "h1 {text-align: center; font-family: Georgia; font-size: 36px; font-weight: bold; line-height: 48px}\n",
    "h2 {font-family: Calisto MT; font-size: 30px; font-weight: bold; color: #6a085c}\n",
    "h3 {font-family: Lucida Bright; font-size: 24px; font-weight: bold; color: #114a4f}\n",
    "h4 {text-indent: 2em; font-family: Cambria; font-size: 18px}\n",
    "p.text {text-indent: 2em; text-align: justify; font-family: Times New Roman; font-size: 20px}\n",
    "p.ex {text-align: center; font-family: Times New Roman; font-size: 20px}\n",
    "table.t {width: 80%; border: 1px solid; padding: 5px; border-collapse: collapse}\n",
    "th.h {text-align: left; font-family: Georgia; font-size: 18px; border: 1px solid; padding: 5px}\n",
    "td.d {text-align: left; font-family: Cambria; font-size: 18px; border: 1px solid; padding: 5px}\n",
    "code {font-family: monospace; font-weight: bold; font-size: 16px; color: crimson; padding: 4px}\n",
    "</style>"
   ]
  },
  {
   "cell_type": "markdown",
   "metadata": {},
   "source": [
    "<h1>Formalizing Informal Text using Natural Language Processing</h1>"
   ]
  },
  {
   "cell_type": "code",
   "execution_count": 1,
   "metadata": {
    "executionInfo": {
     "elapsed": 3473,
     "status": "ok",
     "timestamp": 1624291815490,
     "user": {
      "displayName": "Patil patil",
      "photoUrl": "",
      "userId": "14756588262391950356"
     },
     "user_tz": -330
    },
    "id": "my1wrK0u6zZL"
   },
   "outputs": [],
   "source": [
    "import re\n",
    "import joblib\n",
    "from sklearn.model_selection import train_test_split\n",
    "import tensorflow as tf\n",
    "from tensorflow import keras\n",
    "from tensorflow.keras.preprocessing.text import Tokenizer\n",
    "from tensorflow.keras.preprocessing.sequence import pad_sequences\n",
    "import numpy as np\n",
    "import pandas as pd\n",
    "import matplotlib.pyplot as plt\n",
    "import seaborn as sns\n",
    "title_font = {'family': 'serif', 'color': 'darkred', 'weight': 'bold', 'size': 18}\n",
    "label_font = {'family': 'Arial', 'weight': 'normal', 'size': 16}\n",
    "import warnings\n",
    "warnings.filterwarnings(\"ignore\")"
   ]
  },
  {
   "cell_type": "markdown",
   "metadata": {},
   "source": [
    "<h3>Loading data:</h3>\n"
   ]
  },
  {
   "cell_type": "code",
   "execution_count": 2,
   "metadata": {
    "executionInfo": {
     "elapsed": 457,
     "status": "ok",
     "timestamp": 1624293702452,
     "user": {
      "displayName": "Patil patil",
      "photoUrl": "",
      "userId": "14756588262391950356"
     },
     "user_tz": -330
    },
    "id": "rjEanSA-l1T6"
   },
   "outputs": [
    {
     "data": {
      "text/html": [
       "<div>\n",
       "<style scoped>\n",
       "    .dataframe tbody tr th:only-of-type {\n",
       "        vertical-align: middle;\n",
       "    }\n",
       "\n",
       "    .dataframe tbody tr th {\n",
       "        vertical-align: top;\n",
       "    }\n",
       "\n",
       "    .dataframe thead th {\n",
       "        text-align: right;\n",
       "    }\n",
       "</style>\n",
       "<table border=\"1\" class=\"dataframe\">\n",
       "  <thead>\n",
       "    <tr style=\"text-align: right;\">\n",
       "      <th></th>\n",
       "      <th>Informal text</th>\n",
       "      <th>Formal text</th>\n",
       "    </tr>\n",
       "  </thead>\n",
       "  <tbody>\n",
       "    <tr>\n",
       "      <th>0</th>\n",
       "      <td>U wan me to \"chop\" seat 4 u nt?</td>\n",
       "      <td>Do you want me to reserve seat for you or not?</td>\n",
       "    </tr>\n",
       "    <tr>\n",
       "      <th>1</th>\n",
       "      <td>Yup. U reaching. We order some durian pastry a...</td>\n",
       "      <td>Yeap. You reaching? We ordered some Durian pas...</td>\n",
       "    </tr>\n",
       "    <tr>\n",
       "      <th>2</th>\n",
       "      <td>They become more ex oredi... Mine is like 25.....</td>\n",
       "      <td>They become more expensive already. Mine is li...</td>\n",
       "    </tr>\n",
       "    <tr>\n",
       "      <th>3</th>\n",
       "      <td>I'm thai. what do u do?</td>\n",
       "      <td>I'm Thai. What do you do?</td>\n",
       "    </tr>\n",
       "    <tr>\n",
       "      <th>4</th>\n",
       "      <td>Hi! How did your week go? Haven heard from you...</td>\n",
       "      <td>Hi! How did your week go? Haven't heard from y...</td>\n",
       "    </tr>\n",
       "  </tbody>\n",
       "</table>\n",
       "</div>"
      ],
      "text/plain": [
       "                                       Informal text  \\\n",
       "0                    U wan me to \"chop\" seat 4 u nt?   \n",
       "1  Yup. U reaching. We order some durian pastry a...   \n",
       "2  They become more ex oredi... Mine is like 25.....   \n",
       "3                            I'm thai. what do u do?   \n",
       "4  Hi! How did your week go? Haven heard from you...   \n",
       "\n",
       "                                         Formal text  \n",
       "0     Do you want me to reserve seat for you or not?  \n",
       "1  Yeap. You reaching? We ordered some Durian pas...  \n",
       "2  They become more expensive already. Mine is li...  \n",
       "3                          I'm Thai. What do you do?  \n",
       "4  Hi! How did your week go? Haven't heard from y...  "
      ]
     },
     "execution_count": 2,
     "metadata": {},
     "output_type": "execute_result"
    }
   ],
   "source": [
    "# Reading the file\n",
    "f = open(\"informaltoformal.en2nen2cn\", \"r\", encoding = 'utf-8')\n",
    "text = f.read()\n",
    "\n",
    "# Removing last instance after splitting as it is empty string\n",
    "text = text.split('\\n')[:-1]\n",
    "\n",
    "# Creating the pandas dataframe\n",
    "data = [[text[i], text[i+1]] for i in list(range(0, 6000, 3))]\n",
    "df = pd.DataFrame(data, columns = ['Informal text', 'Formal text'])\n",
    "df.head()"
   ]
  },
  {
   "cell_type": "code",
   "execution_count": 3,
   "metadata": {
    "colab": {
     "base_uri": "https://localhost:8080/",
     "height": 203
    },
    "executionInfo": {
     "elapsed": 457,
     "status": "ok",
     "timestamp": 1624293708358,
     "user": {
      "displayName": "Patil patil",
      "photoUrl": "",
      "userId": "14756588262391950356"
     },
     "user_tz": -330
    },
    "id": "pF-ggm-E0-ro",
    "outputId": "a2aeb5a8-02c8-44dc-a2e7-94d64cd2e846"
   },
   "outputs": [
    {
     "data": {
      "text/html": [
       "<div>\n",
       "<style scoped>\n",
       "    .dataframe tbody tr th:only-of-type {\n",
       "        vertical-align: middle;\n",
       "    }\n",
       "\n",
       "    .dataframe tbody tr th {\n",
       "        vertical-align: top;\n",
       "    }\n",
       "\n",
       "    .dataframe thead th {\n",
       "        text-align: right;\n",
       "    }\n",
       "</style>\n",
       "<table border=\"1\" class=\"dataframe\">\n",
       "  <thead>\n",
       "    <tr style=\"text-align: right;\">\n",
       "      <th></th>\n",
       "      <th>encoder_inp</th>\n",
       "      <th>decoder_inp</th>\n",
       "      <th>decoder_out</th>\n",
       "    </tr>\n",
       "  </thead>\n",
       "  <tbody>\n",
       "    <tr>\n",
       "      <th>0</th>\n",
       "      <td>&lt;U wan me to \"chop\" seat 4 u nt?&gt;</td>\n",
       "      <td>&lt;Do you want me to reserve seat for you or not?</td>\n",
       "      <td>Do you want me to reserve seat for you or not?&gt;</td>\n",
       "    </tr>\n",
       "    <tr>\n",
       "      <th>1</th>\n",
       "      <td>&lt;Yup. U reaching. We order some durian pastry ...</td>\n",
       "      <td>&lt;Yeap. You reaching? We ordered some Durian pa...</td>\n",
       "      <td>Yeap. You reaching? We ordered some Durian pas...</td>\n",
       "    </tr>\n",
       "    <tr>\n",
       "      <th>2</th>\n",
       "      <td>&lt;They become more ex oredi... Mine is like 25....</td>\n",
       "      <td>&lt;They become more expensive already. Mine is l...</td>\n",
       "      <td>They become more expensive already. Mine is li...</td>\n",
       "    </tr>\n",
       "    <tr>\n",
       "      <th>3</th>\n",
       "      <td>&lt;I'm thai. what do u do?&gt;</td>\n",
       "      <td>&lt;I'm Thai. What do you do?</td>\n",
       "      <td>I'm Thai. What do you do?&gt;</td>\n",
       "    </tr>\n",
       "    <tr>\n",
       "      <th>4</th>\n",
       "      <td>&lt;Hi! How did your week go? Haven heard from yo...</td>\n",
       "      <td>&lt;Hi! How did your week go? Haven't heard from ...</td>\n",
       "      <td>Hi! How did your week go? Haven't heard from y...</td>\n",
       "    </tr>\n",
       "  </tbody>\n",
       "</table>\n",
       "</div>"
      ],
      "text/plain": [
       "                                         encoder_inp  \\\n",
       "0                  <U wan me to \"chop\" seat 4 u nt?>   \n",
       "1  <Yup. U reaching. We order some durian pastry ...   \n",
       "2  <They become more ex oredi... Mine is like 25....   \n",
       "3                          <I'm thai. what do u do?>   \n",
       "4  <Hi! How did your week go? Haven heard from yo...   \n",
       "\n",
       "                                         decoder_inp  \\\n",
       "0    <Do you want me to reserve seat for you or not?   \n",
       "1  <Yeap. You reaching? We ordered some Durian pa...   \n",
       "2  <They become more expensive already. Mine is l...   \n",
       "3                         <I'm Thai. What do you do?   \n",
       "4  <Hi! How did your week go? Haven't heard from ...   \n",
       "\n",
       "                                         decoder_out  \n",
       "0    Do you want me to reserve seat for you or not?>  \n",
       "1  Yeap. You reaching? We ordered some Durian pas...  \n",
       "2  They become more expensive already. Mine is li...  \n",
       "3                         I'm Thai. What do you do?>  \n",
       "4  Hi! How did your week go? Haven't heard from y...  "
      ]
     },
     "execution_count": 3,
     "metadata": {},
     "output_type": "execute_result"
    }
   ],
   "source": [
    "# Creating encoder inp, decoder inp and decoder_out \n",
    "encoder_inp = '<' + df['Informal text'].astype(str) + '>'\n",
    "decoder_inp = '<' + df['Formal text'].astype(str)\n",
    "decoder_out = df['Formal text'].astype(str) + '>'\n",
    "\n",
    "# Creating the dataframe\n",
    "preprocessed_data = pd.DataFrame()\n",
    "preprocessed_data['encoder_inp'] = encoder_inp\n",
    "preprocessed_data['decoder_inp'] = decoder_inp\n",
    "preprocessed_data['decoder_out'] = decoder_out\n",
    "preprocessed_data.head()"
   ]
  },
  {
   "cell_type": "markdown",
   "metadata": {},
   "source": [
    "<h3>Splitting the data into training and validation sets:</h3>"
   ]
  },
  {
   "cell_type": "code",
   "execution_count": 4,
   "metadata": {
    "colab": {
     "base_uri": "https://localhost:8080/",
     "height": 354
    },
    "executionInfo": {
     "elapsed": 1342,
     "status": "ok",
     "timestamp": 1624293710143,
     "user": {
      "displayName": "Patil patil",
      "photoUrl": "",
      "userId": "14756588262391950356"
     },
     "user_tz": -330
    },
    "id": "_zH0bK5PS0ax",
    "outputId": "f9f53697-4d10-46f7-f1da-70c97e081410"
   },
   "outputs": [
    {
     "data": {
      "image/png": "[encoded data removed]",
      "text/plain": [
       "<Figure size 1080x360 with 3 Axes>"
      ]
     },
     "metadata": {
      "needs_background": "light"
     },
     "output_type": "display_data"
    }
   ],
   "source": [
    "# creating axes to draw plots\n",
    "fig, ax = plt.subplots(1, 3)\n",
    "\n",
    "# plotting the distributions\n",
    "sns.distplot(preprocessed_data['encoder_inp'].apply(len).values, hist = False, kde = True, kde_kws = {'shade': True, 'linewidth': 2}, color = \"brown\", ax = ax[0])\n",
    "sns.distplot(preprocessed_data['decoder_inp'].apply(len).values, hist = False, kde = True, kde_kws = {'shade': True, 'linewidth': 2}, color = \"green\", ax = ax[1])\n",
    "sns.distplot(preprocessed_data['decoder_out'].apply(len).values, hist = False, kde = True, kde_kws = {'shade': True, 'linewidth': 2}, color = \"black\", ax = ax[2])\n",
    "\n",
    "# adding titles to the subplots\n",
    "ax[0].set_title(\"Lengths of Encoder Input\", fontdict = title_font, pad = 20.0)\n",
    "ax[1].set_title(\"Lengths of Decoder Input\", fontdict = title_font, pad = 20.0)\n",
    "ax[2].set_title(\"Lengths of Decoder Output\", fontdict = title_font, pad = 20.0)\n",
    "\n",
    "# rescaling the figure\n",
    "fig.set_figheight(5)\n",
    "fig.set_figwidth(15)"
   ]
  },
  {
   "cell_type": "markdown",
   "metadata": {},
   "source": [
    "<p class = \"text\">\n",
    "As we can see, most of the sentences are of length around 50 and almost all the sentences have lengths less than 40. Hence, we can filter out the sentences which are of length more than 200.\n",
    "</p>"
   ]
  },
  {
   "cell_type": "code",
   "execution_count": 5,
   "metadata": {
    "colab": {
     "base_uri": "https://localhost:8080/",
     "height": 203
    },
    "executionInfo": {
     "elapsed": 455,
     "status": "ok",
     "timestamp": 1624293725491,
     "user": {
      "displayName": "Patil patil",
      "photoUrl": "",
      "userId": "14756588262391950356"
     },
     "user_tz": -330
    },
    "id": "gPi6icr1S0U4",
    "outputId": "59c96841-0070-4f5d-8612-15c6a7e42ce2"
   },
   "outputs": [
    {
     "data": {
      "text/html": [
       "<div>\n",
       "<style scoped>\n",
       "    .dataframe tbody tr th:only-of-type {\n",
       "        vertical-align: middle;\n",
       "    }\n",
       "\n",
       "    .dataframe tbody tr th {\n",
       "        vertical-align: top;\n",
       "    }\n",
       "\n",
       "    .dataframe thead th {\n",
       "        text-align: right;\n",
       "    }\n",
       "</style>\n",
       "<table border=\"1\" class=\"dataframe\">\n",
       "  <thead>\n",
       "    <tr style=\"text-align: right;\">\n",
       "      <th></th>\n",
       "      <th>encoder_inp</th>\n",
       "      <th>decoder_inp</th>\n",
       "      <th>decoder_out</th>\n",
       "    </tr>\n",
       "  </thead>\n",
       "  <tbody>\n",
       "    <tr>\n",
       "      <th>0</th>\n",
       "      <td>&lt;U wan me to \"chop\" seat 4 u nt?&gt;</td>\n",
       "      <td>&lt;Do you want me to reserve seat for you or not?</td>\n",
       "      <td>Do you want me to reserve seat for you or not?&gt;</td>\n",
       "    </tr>\n",
       "    <tr>\n",
       "      <th>1</th>\n",
       "      <td>&lt;Yup. U reaching. We order some durian pastry ...</td>\n",
       "      <td>&lt;Yeap. You reaching? We ordered some Durian pa...</td>\n",
       "      <td>Yeap. You reaching? We ordered some Durian pas...</td>\n",
       "    </tr>\n",
       "    <tr>\n",
       "      <th>2</th>\n",
       "      <td>&lt;They become more ex oredi... Mine is like 25....</td>\n",
       "      <td>&lt;They become more expensive already. Mine is l...</td>\n",
       "      <td>They become more expensive already. Mine is li...</td>\n",
       "    </tr>\n",
       "    <tr>\n",
       "      <th>3</th>\n",
       "      <td>&lt;I'm thai. what do u do?&gt;</td>\n",
       "      <td>&lt;I'm Thai. What do you do?</td>\n",
       "      <td>I'm Thai. What do you do?&gt;</td>\n",
       "    </tr>\n",
       "    <tr>\n",
       "      <th>4</th>\n",
       "      <td>&lt;Hi! How did your week go? Haven heard from yo...</td>\n",
       "      <td>&lt;Hi! How did your week go? Haven't heard from ...</td>\n",
       "      <td>Hi! How did your week go? Haven't heard from y...</td>\n",
       "    </tr>\n",
       "  </tbody>\n",
       "</table>\n",
       "</div>"
      ],
      "text/plain": [
       "                                         encoder_inp  \\\n",
       "0                  <U wan me to \"chop\" seat 4 u nt?>   \n",
       "1  <Yup. U reaching. We order some durian pastry ...   \n",
       "2  <They become more ex oredi... Mine is like 25....   \n",
       "3                          <I'm thai. what do u do?>   \n",
       "4  <Hi! How did your week go? Haven heard from yo...   \n",
       "\n",
       "                                         decoder_inp  \\\n",
       "0    <Do you want me to reserve seat for you or not?   \n",
       "1  <Yeap. You reaching? We ordered some Durian pa...   \n",
       "2  <They become more expensive already. Mine is l...   \n",
       "3                         <I'm Thai. What do you do?   \n",
       "4  <Hi! How did your week go? Haven't heard from ...   \n",
       "\n",
       "                                         decoder_out  \n",
       "0    Do you want me to reserve seat for you or not?>  \n",
       "1  Yeap. You reaching? We ordered some Durian pas...  \n",
       "2  They become more expensive already. Mine is li...  \n",
       "3                         I'm Thai. What do you do?>  \n",
       "4  Hi! How did your week go? Haven't heard from y...  "
      ]
     },
     "execution_count": 5,
     "metadata": {},
     "output_type": "execute_result"
    }
   ],
   "source": [
    "# Filtering out sentences of length more than 200\n",
    "preprocessed_data = preprocessed_data[preprocessed_data['encoder_inp'].str.split().apply(len) <= 200]\n",
    "preprocessed_data = preprocessed_data[preprocessed_data['decoder_inp'].str.split().apply(len) <= 200]\n",
    "preprocessed_data = preprocessed_data[preprocessed_data['decoder_out'].str.split().apply(len) <= 200]\n",
    "preprocessed_data.head()"
   ]
  },
  {
   "cell_type": "markdown",
   "metadata": {},
   "source": [
    "<p class = \"text\">\n",
    "We can now split the data into train, validation and test sets. As we have less data, we will split with about 90:05:05 split to use more data to train the model.\n",
    "</p>"
   ]
  },
  {
   "cell_type": "code",
   "execution_count": 14,
   "metadata": {
    "colab": {
     "base_uri": "https://localhost:8080/"
    },
    "executionInfo": {
     "elapsed": 529,
     "status": "ok",
     "timestamp": 1624294529838,
     "user": {
      "displayName": "Patil patil",
      "photoUrl": "",
      "userId": "14756588262391950356"
     },
     "user_tz": -330
    },
    "id": "s4W2Ym_eyBqf",
    "outputId": "d2050125-17ac-46d5-a5da-e5af2b3c0955"
   },
   "outputs": [
    {
     "name": "stdout",
     "output_type": "stream",
     "text": [
      "Shape of Training set: (1805, 3)\n",
      "Shape of Validation set: (100, 3)\n",
      "Shape of Test set: (95, 3)\n"
     ]
    }
   ],
   "source": [
    "train, validation = train_test_split(preprocessed_data, test_size=0.05, random_state = 859)\n",
    "\n",
    "train, test = train_test_split(train, test_size=0.05, random_state = 859)\n",
    "\n",
    "joblib.dump(train, 'train.pkl')\n",
    "joblib.dump(validation, 'validation.pkl')\n",
    "joblib.dump(test, 'test.pkl')\n",
    "\n",
    "print(f\"Shape of Training set: {train.shape}\")\n",
    "print(f\"Shape of Validation set: {validation.shape}\")\n",
    "print(f\"Shape of Test set: {test.shape}\")\n",
    "\n",
    "# for one sentence we will be adding '>' token so that the tokanizer learns the word '>'\n",
    "# with this we can use only one tokenizer for both encoder output and decoder output\n",
    "train.iloc[0]['encoder_inp']= str(train.iloc[0]['encoder_inp']) + '>'"
   ]
  },
  {
   "cell_type": "markdown",
   "metadata": {},
   "source": [
    "<h3>Tokenizing data:</h3>"
   ]
  },
  {
   "cell_type": "code",
   "execution_count": 15,
   "metadata": {
    "executionInfo": {
     "elapsed": 441,
     "status": "ok",
     "timestamp": 1624294653542,
     "user": {
      "displayName": "Patil patil",
      "photoUrl": "",
      "userId": "14756588262391950356"
     },
     "user_tz": -330
    },
    "id": "1lCYOdvxaAx7"
   },
   "outputs": [
    {
     "name": "stdout",
     "output_type": "stream",
     "text": [
      "Vocab size of Informal text: 103\n",
      "Vocab size of Formal text: 91\n"
     ]
    }
   ],
   "source": [
    "# Tokenizing informal data with case preservation and excluding common punctuations like .,?!:;\n",
    "tknizer_informal = Tokenizer(filters = '\"#$%&()*+-/=@[\\\\]^_`{|}~\\t\\n', lower = False, char_level = True)\n",
    "tknizer_informal.fit_on_texts(train['encoder_inp'].values)\n",
    "joblib.dump(tknizer_informal, 'tknizer_informal.pkl')\n",
    "\n",
    "# Tokenizing formal data with case preservation and excluding common punctuations like .,?!:;\n",
    "tknizer_formal = Tokenizer(filters = '\"#$%&()*+-/=@[\\\\]^_`{|}~\\t\\n', lower = False, char_level = True)\n",
    "# Introducing '<end>' token on first sentence so that vocabulary learns it\n",
    "train['decoder_inp'].iloc[0] = train['decoder_inp'].iloc[0] + '>'\n",
    "tknizer_formal.fit_on_texts(train['decoder_inp'].values)\n",
    "joblib.dump(tknizer_formal, 'tknizer_formal.pkl')\n",
    "\n",
    "# Printing sizes of vocabularies\n",
    "vocab_size_informal = len(tknizer_informal.word_index.keys())\n",
    "print(f\"Vocab size of Informal text: {vocab_size_informal}\")\n",
    "vocab_size_formal = len(tknizer_formal.word_index.keys())\n",
    "print(f\"Vocab size of Formal text: {vocab_size_formal}\")"
   ]
  },
  {
   "cell_type": "markdown",
   "metadata": {},
   "source": [
    "<h3>Padding data:</h3>"
   ]
  },
  {
   "cell_type": "code",
   "execution_count": 16,
   "metadata": {
    "executionInfo": {
     "elapsed": 515,
     "status": "ok",
     "timestamp": 1624296413663,
     "user": {
      "displayName": "Patil patil",
      "photoUrl": "",
      "userId": "14756588262391950356"
     },
     "user_tz": -330
    },
    "id": "49jw4RBLhJGx"
   },
   "outputs": [],
   "source": [
    "# Encoding the sentences by numerical ids in place of words\n",
    "encoder_seq = tknizer_informal.texts_to_sequences(train['encoder_inp'].values)\n",
    "decoder_inp_seq = tknizer_formal.texts_to_sequences(train['decoder_inp'].values)\n",
    "decoder_out_seq = tknizer_formal.texts_to_sequences(train['decoder_out'].values)\n",
    "# Padding the sentences to make all the sentences of same length\n",
    "encoder_seq = pad_sequences(encoder_seq, maxlen = 40, dtype='int32', padding='post')\n",
    "decoder_inp_seq = pad_sequences(decoder_inp_seq, maxlen = 40, dtype='int32', padding='post')\n",
    "decoder_out_seq = pad_sequences(decoder_out_seq, maxlen = 40, dtype='int32', padding='post')"
   ]
  }
 ],
 "metadata": {
  "colab": {
   "authorship_tag": "ABX9TyNtvZUvpdr8P6d//d2dqHTH",
   "collapsed_sections": [],
   "mount_file_id": "1b-GG-Q6b4qXG0vXj2r8ZiQrV2162iaKX",
   "name": "SC2",
   "provenance": []
  },
  "interpreter": {
   "hash": "f8165ba06ef4d1b8944ddab7bc27dc2417440af6c4fcab695d31da6788090849"
  },
  "kernelspec": {
   "display_name": "Python 3 (ipykernel)",
   "language": "python",
   "name": "python3"
  },
  "language_info": {
   "codemirror_mode": {
    "name": "ipython",
    "version": 3
   },
   "file_extension": ".py",
   "mimetype": "text/x-python",
   "name": "python",
   "nbconvert_exporter": "python",
   "pygments_lexer": "ipython3",
   "version": "3.11.5"
  },
  "widgets": {
   "application/vnd.jupyter.widget-state+json": {
    "2b1e893a2400474787e3ad970543db2e": {
     "model_module": "@jupyter-widgets/base",
     "model_name": "LayoutModel",
     "state": {
      "_model_module": "@jupyter-widgets/base",
      "_model_module_version": "1.2.0",
      "_model_name": "LayoutModel",
      "_view_count": null,
      "_view_module": "@jupyter-widgets/base",
      "_view_module_version": "1.2.0",
      "_view_name": "LayoutView",
      "align_content": null,
      "align_items": null,
      "align_self": null,
      "border": null,
      "bottom": null,
      "display": null,
      "flex": null,
      "flex_flow": null,
      "grid_area": null,
      "grid_auto_columns": null,
      "grid_auto_flow": null,
      "grid_auto_rows": null,
      "grid_column": null,
      "grid_gap": null,
      "grid_row": null,
      "grid_template_areas": null,
      "grid_template_columns": null,
      "grid_template_rows": null,
      "height": null,
      "justify_content": null,
      "justify_items": null,
      "left": null,
      "margin": null,
      "max_height": null,
      "max_width": null,
      "min_height": null,
      "min_width": null,
      "object_fit": null,
      "object_position": null,
      "order": null,
      "overflow": null,
      "overflow_x": null,
      "overflow_y": null,
      "padding": null,
      "right": null,
      "top": null,
      "visibility": null,
      "width": null
     }
    },
    "4984a70b4ac84fe0ad283e43c64fb452": {
     "model_module": "@jupyter-widgets/controls",
     "model_name": "ProgressStyleModel",
     "state": {
      "_model_module": "@jupyter-widgets/controls",
      "_model_module_version": "1.5.0",
      "_model_name": "ProgressStyleModel",
      "_view_count": null,
      "_view_module": "@jupyter-widgets/base",
      "_view_module_version": "1.2.0",
      "_view_name": "StyleView",
      "bar_color": null,
      "description_width": "initial"
     }
    },
    "5ad7b56b6e0b4511b4add8f409977350": {
     "model_module": "@jupyter-widgets/base",
     "model_name": "LayoutModel",
     "state": {
      "_model_module": "@jupyter-widgets/base",
      "_model_module_version": "1.2.0",
      "_model_name": "LayoutModel",
      "_view_count": null,
      "_view_module": "@jupyter-widgets/base",
      "_view_module_version": "1.2.0",
      "_view_name": "LayoutView",
      "align_content": null,
      "align_items": null,
      "align_self": null,
      "border": null,
      "bottom": null,
      "display": null,
      "flex": null,
      "flex_flow": null,
      "grid_area": null,
      "grid_auto_columns": null,
      "grid_auto_flow": null,
      "grid_auto_rows": null,
      "grid_column": null,
      "grid_gap": null,
      "grid_row": null,
      "grid_template_areas": null,
      "grid_template_columns": null,
      "grid_template_rows": null,
      "height": null,
      "justify_content": null,
      "justify_items": null,
      "left": null,
      "margin": null,
      "max_height": null,
      "max_width": null,
      "min_height": null,
      "min_width": null,
      "object_fit": null,
      "object_position": null,
      "order": null,
      "overflow": null,
      "overflow_x": null,
      "overflow_y": null,
      "padding": null,
      "right": null,
      "top": null,
      "visibility": null,
      "width": null
     }
    },
    "66a68903c9264262aebf973e03f72c42": {
     "model_module": "@jupyter-widgets/controls",
     "model_name": "HBoxModel",
     "state": {
      "_dom_classes": [],
      "_model_module": "@jupyter-widgets/controls",
      "_model_module_version": "1.5.0",
      "_model_name": "HBoxModel",
      "_view_count": null,
      "_view_module": "@jupyter-widgets/controls",
      "_view_module_version": "1.5.0",
      "_view_name": "HBoxView",
      "box_style": "",
      "children": [
       "IPY_MODEL_b78ba32146a5491998dea07ed560d0a4",
       "IPY_MODEL_dbbba9e8017545d1a65eb58787f071c5"
      ],
      "layout": "IPY_MODEL_2b1e893a2400474787e3ad970543db2e"
     }
    },
    "aba5aa0ec4914935856d12877eb0e7b8": {
     "model_module": "@jupyter-widgets/base",
     "model_name": "LayoutModel",
     "state": {
      "_model_module": "@jupyter-widgets/base",
      "_model_module_version": "1.2.0",
      "_model_name": "LayoutModel",
      "_view_count": null,
      "_view_module": "@jupyter-widgets/base",
      "_view_module_version": "1.2.0",
      "_view_name": "LayoutView",
      "align_content": null,
      "align_items": null,
      "align_self": null,
      "border": null,
      "bottom": null,
      "display": null,
      "flex": null,
      "flex_flow": null,
      "grid_area": null,
      "grid_auto_columns": null,
      "grid_auto_flow": null,
      "grid_auto_rows": null,
      "grid_column": null,
      "grid_gap": null,
      "grid_row": null,
      "grid_template_areas": null,
      "grid_template_columns": null,
      "grid_template_rows": null,
      "height": null,
      "justify_content": null,
      "justify_items": null,
      "left": null,
      "margin": null,
      "max_height": null,
      "max_width": null,
      "min_height": null,
      "min_width": null,
      "object_fit": null,
      "object_position": null,
      "order": null,
      "overflow": null,
      "overflow_x": null,
      "overflow_y": null,
      "padding": null,
      "right": null,
      "top": null,
      "visibility": null,
      "width": null
     }
    },
    "b78ba32146a5491998dea07ed560d0a4": {
     "model_module": "@jupyter-widgets/controls",
     "model_name": "FloatProgressModel",
     "state": {
      "_dom_classes": [],
      "_model_module": "@jupyter-widgets/controls",
      "_model_module_version": "1.5.0",
      "_model_name": "FloatProgressModel",
      "_view_count": null,
      "_view_module": "@jupyter-widgets/controls",
      "_view_module_version": "1.5.0",
      "_view_name": "ProgressView",
      "bar_style": "success",
      "description": "Progress: 100%",
      "description_tooltip": null,
      "layout": "IPY_MODEL_5ad7b56b6e0b4511b4add8f409977350",
      "max": 248471,
      "min": 0,
      "orientation": "horizontal",
      "style": "IPY_MODEL_4984a70b4ac84fe0ad283e43c64fb452",
      "value": 248471
     }
    },
    "dbbba9e8017545d1a65eb58787f071c5": {
     "model_module": "@jupyter-widgets/controls",
     "model_name": "HTMLModel",
     "state": {
      "_dom_classes": [],
      "_model_module": "@jupyter-widgets/controls",
      "_model_module_version": "1.5.0",
      "_model_name": "HTMLModel",
      "_view_count": null,
      "_view_module": "@jupyter-widgets/controls",
      "_view_module_version": "1.5.0",
      "_view_name": "HTMLView",
      "description": "",
      "description_tooltip": null,
      "layout": "IPY_MODEL_aba5aa0ec4914935856d12877eb0e7b8",
      "placeholder": "​",
      "style": "IPY_MODEL_e889fe3e199c4266bfd83ffcc6219da4",
      "value": " 248471/248471 [00:58&lt;00:00, 4276.06it/s]"
     }
    },
    "e889fe3e199c4266bfd83ffcc6219da4": {
     "model_module": "@jupyter-widgets/controls",
     "model_name": "DescriptionStyleModel",
     "state": {
      "_model_module": "@jupyter-widgets/controls",
      "_model_module_version": "1.5.0",
      "_model_name": "DescriptionStyleModel",
      "_view_count": null,
      "_view_module": "@jupyter-widgets/base",
      "_view_module_version": "1.2.0",
      "_view_name": "StyleView",
      "description_width": ""
     }
    }
   }
  }
 },
 "nbformat": 4,
 "nbformat_minor": 4
}
