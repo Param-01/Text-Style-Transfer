{
 "cells": [
  {
   "cell_type": "code",
   "execution_count": 1,
   "metadata": {
    "id": "VoMxYeVbczjX"
   },
   "outputs": [],
   "source": [
    "import numpy as np\n",
    "import pandas as pd\n",
    "import matplotlib.pyplot as plt\n",
    "import seaborn as sns\n",
    "import joblib\n",
    "import re\n",
    "import os\n",
    "from sklearn.model_selection import train_test_split\n",
    "import tensorflow as tf\n",
    "from tensorflow import keras\n",
    "from tensorflow.keras.layers import Embedding, LSTM, Dense, Dropout\n",
    "from tensorflow.keras.models import Model\n",
    "from tensorflow.keras.preprocessing.text import Tokenizer\n",
    "from tensorflow.keras.preprocessing.sequence import pad_sequences\n",
    "from nltk.translate.bleu_score import sentence_bleu\n",
    "import nlpaug.augmenter.word as naw\n",
    "import nlpaug.augmenter.sentence as nas\n",
    "title_font = {'family': 'serif', 'color': 'darkred', 'weight': 'bold', 'size': 18}\n",
    "label_font = {'family': 'Arial', 'weight': 'normal', 'size': 16}\n",
    "import warnings\n",
    "warnings.filterwarnings(\"ignore\")\n",
    "%matplotlib inline"
   ]
  },
  {
   "cell_type": "markdown",
   "metadata": {
    "id": "NvFfZbrUeLxY"
   },
   "source": [
    "<h2>Loading and Preprocessing Data:</h2>"
   ]
  },
  {
   "cell_type": "markdown",
   "metadata": {
    "id": "_871PDTCeLxZ"
   },
   "source": [
    "<h3>Loading data:</h3>"
   ]
  },
  {
   "cell_type": "code",
   "execution_count": 2,
   "metadata": {
    "colab": {
     "base_uri": "https://localhost:8080/",
     "height": 203
    },
    "executionInfo": {
     "elapsed": 380,
     "status": "ok",
     "timestamp": 1625392317456,
     "user": {
      "displayName": "Bhaiya Mail",
      "photoUrl": "",
      "userId": "14007713349458994505"
     },
     "user_tz": -330
    },
    "id": "UCZZp6k9czjY",
    "outputId": "f58f4dd8-ac1f-4874-8285-03b78e87d462"
   },
   "outputs": [
    {
     "data": {
      "text/html": [
       "<div>\n",
       "<style scoped>\n",
       "    .dataframe tbody tr th:only-of-type {\n",
       "        vertical-align: middle;\n",
       "    }\n",
       "\n",
       "    .dataframe tbody tr th {\n",
       "        vertical-align: top;\n",
       "    }\n",
       "\n",
       "    .dataframe thead th {\n",
       "        text-align: right;\n",
       "    }\n",
       "</style>\n",
       "<table border=\"1\" class=\"dataframe\">\n",
       "  <thead>\n",
       "    <tr style=\"text-align: right;\">\n",
       "      <th></th>\n",
       "      <th>Informal text</th>\n",
       "      <th>Formal text</th>\n",
       "    </tr>\n",
       "  </thead>\n",
       "  <tbody>\n",
       "    <tr>\n",
       "      <th>0</th>\n",
       "      <td>U wan me to \"chop\" seat 4 u nt?</td>\n",
       "      <td>Do you want me to reserve seat for you or not?</td>\n",
       "    </tr>\n",
       "    <tr>\n",
       "      <th>1</th>\n",
       "      <td>Yup. U reaching. We order some durian pastry a...</td>\n",
       "      <td>Yeap. You reaching? We ordered some Durian pas...</td>\n",
       "    </tr>\n",
       "    <tr>\n",
       "      <th>2</th>\n",
       "      <td>They become more ex oredi... Mine is like 25.....</td>\n",
       "      <td>They become more expensive already. Mine is li...</td>\n",
       "    </tr>\n",
       "    <tr>\n",
       "      <th>3</th>\n",
       "      <td>I'm thai. what do u do?</td>\n",
       "      <td>I'm Thai. What do you do?</td>\n",
       "    </tr>\n",
       "    <tr>\n",
       "      <th>4</th>\n",
       "      <td>Hi! How did your week go? Haven heard from you...</td>\n",
       "      <td>Hi! How did your week go? Haven't heard from y...</td>\n",
       "    </tr>\n",
       "  </tbody>\n",
       "</table>\n",
       "</div>"
      ],
      "text/plain": [
       "                                       Informal text  \\\n",
       "0                    U wan me to \"chop\" seat 4 u nt?   \n",
       "1  Yup. U reaching. We order some durian pastry a...   \n",
       "2  They become more ex oredi... Mine is like 25.....   \n",
       "3                            I'm thai. what do u do?   \n",
       "4  Hi! How did your week go? Haven heard from you...   \n",
       "\n",
       "                                         Formal text  \n",
       "0     Do you want me to reserve seat for you or not?  \n",
       "1  Yeap. You reaching? We ordered some Durian pas...  \n",
       "2  They become more expensive already. Mine is li...  \n",
       "3                          I'm Thai. What do you do?  \n",
       "4  Hi! How did your week go? Haven't heard from y...  "
      ]
     },
     "execution_count": 2,
     "metadata": {},
     "output_type": "execute_result"
    }
   ],
   "source": [
    "# Reading the file\n",
    "f = open(\"informaltoformal.en2nen2cn\", \"r\", encoding = 'utf-8')\n",
    "text = f.read()\n",
    "# Removing last instance after splitting as it is empty string\n",
    "text = text.split('\\n')[:-1]\n",
    "# Creating the pandas dataframe\n",
    "data = [[text[i], text[i+1]] for i in list(range(0, 6000, 3))]\n",
    "df = pd.DataFrame(data, columns = ['Informal text', 'Formal text'])\n",
    "df.head()"
   ]
  },
  {
   "cell_type": "markdown",
   "metadata": {
    "id": "L0VUZgVpeLxZ"
   },
   "source": [
    "<h3>Augmenting the Dataset:</h3>"
   ]
  },
  {
   "cell_type": "code",
   "execution_count": 3,
   "metadata": {
    "colab": {
     "base_uri": "https://localhost:8080/",
     "height": 203
    },
    "executionInfo": {
     "elapsed": 10345,
     "status": "ok",
     "timestamp": 1625392331185,
     "user": {
      "displayName": "Bhaiya Mail",
      "photoUrl": "",
      "userId": "14007713349458994505"
     },
     "user_tz": -330
    },
    "id": "L6s6L5Me9SwI",
    "outputId": "70c36702-5295-4d0e-85dc-0735fb05474c"
   },
   "outputs": [
    {
     "data": {
      "text/html": [
       "<div>\n",
       "<style scoped>\n",
       "    .dataframe tbody tr th:only-of-type {\n",
       "        vertical-align: middle;\n",
       "    }\n",
       "\n",
       "    .dataframe tbody tr th {\n",
       "        vertical-align: top;\n",
       "    }\n",
       "\n",
       "    .dataframe thead th {\n",
       "        text-align: right;\n",
       "    }\n",
       "</style>\n",
       "<table border=\"1\" class=\"dataframe\">\n",
       "  <thead>\n",
       "    <tr style=\"text-align: right;\">\n",
       "      <th></th>\n",
       "      <th>Informal text</th>\n",
       "      <th>Formal text</th>\n",
       "    </tr>\n",
       "  </thead>\n",
       "  <tbody>\n",
       "    <tr>\n",
       "      <th>7995</th>\n",
       "      <td>[Hmm. I thingk I usually book ona weerends. Is...</td>\n",
       "      <td>Hmm. I think I usually book on weekends. It de...</td>\n",
       "    </tr>\n",
       "    <tr>\n",
       "      <th>7996</th>\n",
       "      <td>[Can you aske them whether they have for any s...</td>\n",
       "      <td>Can you ask them whether they have for any sms...</td>\n",
       "    </tr>\n",
       "    <tr>\n",
       "      <th>7997</th>\n",
       "      <td>[wWe are near Coca aready.]</td>\n",
       "      <td>We are near Coca already.</td>\n",
       "    </tr>\n",
       "    <tr>\n",
       "      <th>7998</th>\n",
       "      <td>[Hall eleven. Got lectures. An forget about ko...</td>\n",
       "      <td>Hall eleven. Got lectures. And forget about co...</td>\n",
       "    </tr>\n",
       "    <tr>\n",
       "      <th>7999</th>\n",
       "      <td>[I' bring for ypi. 11th can not promisse uoy 1...</td>\n",
       "      <td>I bring for you. I can not promise you 100% to...</td>\n",
       "    </tr>\n",
       "  </tbody>\n",
       "</table>\n",
       "</div>"
      ],
      "text/plain": [
       "                                          Informal text  \\\n",
       "7995  [Hmm. I thingk I usually book ona weerends. Is...   \n",
       "7996  [Can you aske them whether they have for any s...   \n",
       "7997                        [wWe are near Coca aready.]   \n",
       "7998  [Hall eleven. Got lectures. An forget about ko...   \n",
       "7999  [I' bring for ypi. 11th can not promisse uoy 1...   \n",
       "\n",
       "                                            Formal text  \n",
       "7995  Hmm. I think I usually book on weekends. It de...  \n",
       "7996  Can you ask them whether they have for any sms...  \n",
       "7997                          We are near Coca already.  \n",
       "7998  Hall eleven. Got lectures. And forget about co...  \n",
       "7999  I bring for you. I can not promise you 100% to...  "
      ]
     },
     "execution_count": 3,
     "metadata": {},
     "output_type": "execute_result"
    }
   ],
   "source": [
    "# Applying Synonym augmentation\n",
    "aug = naw.SynonymAug(aug_src = 'wordnet')\n",
    "for text in df['Formal text'].values:\n",
    "    augmented = pd.DataFrame({\"Informal text\":[aug.augment(text)], \"Formal text\":[text]})\n",
    "    df = pd.concat([df,augmented], ignore_index = True)\n",
    "\n",
    "    # Applying Spelling augmentation\n",
    "aug = naw.SpellingAug()\n",
    "for text in df['Formal text'].values:\n",
    "    augmented = pd.DataFrame({\"Informal text\":[aug.augment(text)], \"Formal text\":[text]})\n",
    "    df = pd.concat([df,augmented], ignore_index = True)\n",
    "df.tail()"
   ]
  },
  {
   "cell_type": "markdown",
   "metadata": {
    "id": "_Cs49YSgeLxb"
   },
   "source": [
    "<h3>Preprocessing the Dataset:</h3>"
   ]
  },
  {
   "cell_type": "code",
   "execution_count": 4,
   "metadata": {
    "colab": {
     "base_uri": "https://localhost:8080/",
     "height": 203
    },
    "executionInfo": {
     "elapsed": 21,
     "status": "ok",
     "timestamp": 1625392334449,
     "user": {
      "displayName": "Bhaiya Mail",
      "photoUrl": "",
      "userId": "14007713349458994505"
     },
     "user_tz": -330
    },
    "id": "Sz9E8O_4czjd",
    "outputId": "d56833d8-499b-4eb7-9a5d-bdce11dd398e"
   },
   "outputs": [
    {
     "data": {
      "text/html": [
       "<div>\n",
       "<style scoped>\n",
       "    .dataframe tbody tr th:only-of-type {\n",
       "        vertical-align: middle;\n",
       "    }\n",
       "\n",
       "    .dataframe tbody tr th {\n",
       "        vertical-align: top;\n",
       "    }\n",
       "\n",
       "    .dataframe thead th {\n",
       "        text-align: right;\n",
       "    }\n",
       "</style>\n",
       "<table border=\"1\" class=\"dataframe\">\n",
       "  <thead>\n",
       "    <tr style=\"text-align: right;\">\n",
       "      <th></th>\n",
       "      <th>encoder_inp</th>\n",
       "      <th>decoder_inp</th>\n",
       "      <th>decoder_out</th>\n",
       "    </tr>\n",
       "  </thead>\n",
       "  <tbody>\n",
       "    <tr>\n",
       "      <th>0</th>\n",
       "      <td>&lt;U wan me to \"chop\" seat 4 u nt?&gt;</td>\n",
       "      <td>&lt;Do you want me to reserve seat for you or not?</td>\n",
       "      <td>Do you want me to reserve seat for you or not?&gt;</td>\n",
       "    </tr>\n",
       "    <tr>\n",
       "      <th>1</th>\n",
       "      <td>&lt;Yup. U reaching. We order some durian pastry ...</td>\n",
       "      <td>&lt;Yeap. You reaching? We ordered some Durian pa...</td>\n",
       "      <td>Yeap. You reaching? We ordered some Durian pas...</td>\n",
       "    </tr>\n",
       "    <tr>\n",
       "      <th>2</th>\n",
       "      <td>&lt;They become more ex oredi... Mine is like 25....</td>\n",
       "      <td>&lt;They become more expensive already. Mine is l...</td>\n",
       "      <td>They become more expensive already. Mine is li...</td>\n",
       "    </tr>\n",
       "    <tr>\n",
       "      <th>3</th>\n",
       "      <td>&lt;I'm thai. what do u do?&gt;</td>\n",
       "      <td>&lt;I'm Thai. What do you do?</td>\n",
       "      <td>I'm Thai. What do you do?&gt;</td>\n",
       "    </tr>\n",
       "    <tr>\n",
       "      <th>4</th>\n",
       "      <td>&lt;Hi! How did your week go? Haven heard from yo...</td>\n",
       "      <td>&lt;Hi! How did your week go? Haven't heard from ...</td>\n",
       "      <td>Hi! How did your week go? Haven't heard from y...</td>\n",
       "    </tr>\n",
       "  </tbody>\n",
       "</table>\n",
       "</div>"
      ],
      "text/plain": [
       "                                         encoder_inp  \\\n",
       "0                  <U wan me to \"chop\" seat 4 u nt?>   \n",
       "1  <Yup. U reaching. We order some durian pastry ...   \n",
       "2  <They become more ex oredi... Mine is like 25....   \n",
       "3                          <I'm thai. what do u do?>   \n",
       "4  <Hi! How did your week go? Haven heard from yo...   \n",
       "\n",
       "                                         decoder_inp  \\\n",
       "0    <Do you want me to reserve seat for you or not?   \n",
       "1  <Yeap. You reaching? We ordered some Durian pa...   \n",
       "2  <They become more expensive already. Mine is l...   \n",
       "3                         <I'm Thai. What do you do?   \n",
       "4  <Hi! How did your week go? Haven't heard from ...   \n",
       "\n",
       "                                         decoder_out  \n",
       "0    Do you want me to reserve seat for you or not?>  \n",
       "1  Yeap. You reaching? We ordered some Durian pas...  \n",
       "2  They become more expensive already. Mine is li...  \n",
       "3                         I'm Thai. What do you do?>  \n",
       "4  Hi! How did your week go? Haven't heard from y...  "
      ]
     },
     "execution_count": 4,
     "metadata": {},
     "output_type": "execute_result"
    }
   ],
   "source": [
    "# Creating encoder inp, decoder inp and decoder_out \n",
    "encoder_inp = '<' + df['Informal text'].astype(str) + '>'\n",
    "decoder_inp = '<' + df['Formal text'].astype(str)\n",
    "decoder_out = df['Formal text'].astype(str) + '>'\n",
    "\n",
    "# Creating the dataframe\n",
    "preprocessed_data = pd.DataFrame()\n",
    "preprocessed_data['encoder_inp'] = encoder_inp\n",
    "preprocessed_data['decoder_inp'] = decoder_inp\n",
    "preprocessed_data['decoder_out'] = decoder_out\n",
    "preprocessed_data.head()"
   ]
  },
  {
   "cell_type": "markdown",
   "metadata": {
    "id": "-I708TgreLxd"
   },
   "source": [
    "<h3>Splitting the data into training and validation sets:</h3>"
   ]
  },
  {
   "cell_type": "code",
   "execution_count": 5,
   "metadata": {
    "colab": {
     "base_uri": "https://localhost:8080/",
     "height": 354
    },
    "executionInfo": {
     "elapsed": 1591,
     "status": "ok",
     "timestamp": 1625392336023,
     "user": {
      "displayName": "Bhaiya Mail",
      "photoUrl": "",
      "userId": "14007713349458994505"
     },
     "user_tz": -330
    },
    "id": "hvhcpm39Z013",
    "outputId": "42d1b190-089c-40aa-f0d3-37380b7ae84a"
   },
   "outputs": [
    {
     "data": {
      "image/png": "[encoded data removed]",
      "text/plain": [
       "<Figure size 1080x360 with 3 Axes>"
      ]
     },
     "metadata": {
      "needs_background": "light"
     },
     "output_type": "display_data"
    }
   ],
   "source": [
    "# creating axes to draw plots\n",
    "fig, ax = plt.subplots(1, 3)\n",
    "\n",
    "# plotting the distributions\n",
    "sns.distplot(preprocessed_data['encoder_inp'].apply(len).values, hist = False, kde = True, kde_kws = {'shade': True, 'linewidth': 2}, color = \"green\", ax = ax[0])\n",
    "sns.distplot(preprocessed_data['decoder_inp'].apply(len).values, hist = False, kde = True, kde_kws = {'shade': True, 'linewidth': 2}, color = \"indigo\", ax = ax[1])\n",
    "sns.distplot(preprocessed_data['decoder_out'].apply(len).values, hist = False, kde = True, kde_kws = {'shade': True, 'linewidth': 2}, color = \"orange\", ax = ax[2])\n",
    "\n",
    "# adding titles to the subplots\n",
    "ax[0].set_title(\"Lengths of Encoder Input\", fontdict = title_font, pad = 20.0)\n",
    "ax[1].set_title(\"Lengths of Decoder Input\", fontdict = title_font, pad = 20.0)\n",
    "ax[2].set_title(\"Lengths of Decoder Output\", fontdict = title_font, pad = 20.0)\n",
    "\n",
    "# rescaling the figure\n",
    "fig.set_figheight(5)\n",
    "fig.set_figwidth(15)"
   ]
  },
  {
   "cell_type": "code",
   "execution_count": 6,
   "metadata": {
    "colab": {
     "base_uri": "https://localhost:8080/",
     "height": 203
    },
    "executionInfo": {
     "elapsed": 32,
     "status": "ok",
     "timestamp": 1625392336026,
     "user": {
      "displayName": "Bhaiya Mail",
      "photoUrl": "",
      "userId": "14007713349458994505"
     },
     "user_tz": -330
    },
    "id": "PjG7rIjbczjf",
    "outputId": "75243920-eda5-4afc-86a2-c0a99594ef1e"
   },
   "outputs": [
    {
     "data": {
      "text/html": [
       "<div>\n",
       "<style scoped>\n",
       "    .dataframe tbody tr th:only-of-type {\n",
       "        vertical-align: middle;\n",
       "    }\n",
       "\n",
       "    .dataframe tbody tr th {\n",
       "        vertical-align: top;\n",
       "    }\n",
       "\n",
       "    .dataframe thead th {\n",
       "        text-align: right;\n",
       "    }\n",
       "</style>\n",
       "<table border=\"1\" class=\"dataframe\">\n",
       "  <thead>\n",
       "    <tr style=\"text-align: right;\">\n",
       "      <th></th>\n",
       "      <th>encoder_inp</th>\n",
       "      <th>decoder_inp</th>\n",
       "      <th>decoder_out</th>\n",
       "    </tr>\n",
       "  </thead>\n",
       "  <tbody>\n",
       "    <tr>\n",
       "      <th>0</th>\n",
       "      <td>&lt;U wan me to \"chop\" seat 4 u nt?&gt;</td>\n",
       "      <td>&lt;Do you want me to reserve seat for you or not?</td>\n",
       "      <td>Do you want me to reserve seat for you or not?&gt;</td>\n",
       "    </tr>\n",
       "    <tr>\n",
       "      <th>1</th>\n",
       "      <td>&lt;Yup. U reaching. We order some durian pastry ...</td>\n",
       "      <td>&lt;Yeap. You reaching? We ordered some Durian pa...</td>\n",
       "      <td>Yeap. You reaching? We ordered some Durian pas...</td>\n",
       "    </tr>\n",
       "    <tr>\n",
       "      <th>2</th>\n",
       "      <td>&lt;They become more ex oredi... Mine is like 25....</td>\n",
       "      <td>&lt;They become more expensive already. Mine is l...</td>\n",
       "      <td>They become more expensive already. Mine is li...</td>\n",
       "    </tr>\n",
       "    <tr>\n",
       "      <th>3</th>\n",
       "      <td>&lt;I'm thai. what do u do?&gt;</td>\n",
       "      <td>&lt;I'm Thai. What do you do?</td>\n",
       "      <td>I'm Thai. What do you do?&gt;</td>\n",
       "    </tr>\n",
       "    <tr>\n",
       "      <th>4</th>\n",
       "      <td>&lt;Hi! How did your week go? Haven heard from yo...</td>\n",
       "      <td>&lt;Hi! How did your week go? Haven't heard from ...</td>\n",
       "      <td>Hi! How did your week go? Haven't heard from y...</td>\n",
       "    </tr>\n",
       "  </tbody>\n",
       "</table>\n",
       "</div>"
      ],
      "text/plain": [
       "                                         encoder_inp  \\\n",
       "0                  <U wan me to \"chop\" seat 4 u nt?>   \n",
       "1  <Yup. U reaching. We order some durian pastry ...   \n",
       "2  <They become more ex oredi... Mine is like 25....   \n",
       "3                          <I'm thai. what do u do?>   \n",
       "4  <Hi! How did your week go? Haven heard from yo...   \n",
       "\n",
       "                                         decoder_inp  \\\n",
       "0    <Do you want me to reserve seat for you or not?   \n",
       "1  <Yeap. You reaching? We ordered some Durian pa...   \n",
       "2  <They become more expensive already. Mine is l...   \n",
       "3                         <I'm Thai. What do you do?   \n",
       "4  <Hi! How did your week go? Haven't heard from ...   \n",
       "\n",
       "                                         decoder_out  \n",
       "0    Do you want me to reserve seat for you or not?>  \n",
       "1  Yeap. You reaching? We ordered some Durian pas...  \n",
       "2  They become more expensive already. Mine is li...  \n",
       "3                         I'm Thai. What do you do?>  \n",
       "4  Hi! How did your week go? Haven't heard from y...  "
      ]
     },
     "execution_count": 6,
     "metadata": {},
     "output_type": "execute_result"
    }
   ],
   "source": [
    "# Filtering out sentences of length more than 200\n",
    "preprocessed_data = preprocessed_data[preprocessed_data['encoder_inp'].apply(len) <= 200]\n",
    "preprocessed_data = preprocessed_data[preprocessed_data['decoder_inp'].apply(len) <= 200]\n",
    "preprocessed_data = preprocessed_data[preprocessed_data['decoder_out'].apply(len) <= 200]\n",
    "preprocessed_data.head()"
   ]
  },
  {
   "cell_type": "code",
   "execution_count": 7,
   "metadata": {
    "colab": {
     "base_uri": "https://localhost:8080/"
    },
    "executionInfo": {
     "elapsed": 32,
     "status": "ok",
     "timestamp": 1625392336027,
     "user": {
      "displayName": "Bhaiya Mail",
      "photoUrl": "",
      "userId": "14007713349458994505"
     },
     "user_tz": -330
    },
    "id": "26RKaq1Qczjg",
    "outputId": "cbd898fc-234d-484f-c2a3-24055fc87e25"
   },
   "outputs": [
    {
     "name": "stdout",
     "output_type": "stream",
     "text": [
      "Shape of Training set: (7482, 3)\n",
      "Shape of Validation set: (197, 3)\n",
      "Shape of Test set: (192, 3)\n"
     ]
    }
   ],
   "source": [
    "train, validation = train_test_split(preprocessed_data, test_size = 0.025, random_state = 859)\n",
    "train, test = train_test_split(train, test_size = 0.025, random_state = 859)\n",
    "joblib.dump(train, 'train.pkl')\n",
    "joblib.dump(validation, 'validation.pkl')\n",
    "joblib.dump(test, 'test.pkl')\n",
    "print(f\"Shape of Training set: {train.shape}\")\n",
    "print(f\"Shape of Validation set: {validation.shape}\")\n",
    "print(f\"Shape of Test set: {test.shape}\")\n",
    "# for one sentence we will be adding '>' token so that the tokanizer learns the word '>'\n",
    "# with this we can use only one tokenizer for both encoder output and decoder output\n",
    "train.iloc[0]['encoder_inp']= str(train.iloc[0]['encoder_inp']) + '>'"
   ]
  },
  {
   "cell_type": "markdown",
   "metadata": {
    "id": "B-XF1kyleLxg"
   },
   "source": [
    "<h3>Tokenizing data:</h3>"
   ]
  },
  {
   "cell_type": "code",
   "execution_count": 8,
   "metadata": {
    "colab": {
     "base_uri": "https://localhost:8080/"
    },
    "executionInfo": {
     "elapsed": 28,
     "status": "ok",
     "timestamp": 1625392336029,
     "user": {
      "displayName": "Bhaiya Mail",
      "photoUrl": "",
      "userId": "14007713349458994505"
     },
     "user_tz": -330
    },
    "id": "k1EIhMQPczjh",
    "outputId": "54fdbdc0-3aed-42f7-a51b-9791b2dfe5f4"
   },
   "outputs": [
    {
     "name": "stdout",
     "output_type": "stream",
     "text": [
      "Vocab size of Informal text: 120\n",
      "Vocab size of Formal text: 92\n"
     ]
    }
   ],
   "source": [
    "# Tokenizing informal data with case preservation and excluding common punctuations like .,?!:;\n",
    "tknizer_informal = Tokenizer(filters = '\"#$%&()*+-/=@[\\\\]^_`{|}~\\t\\n', lower = False, char_level = True)\n",
    "tknizer_informal.fit_on_texts(train['encoder_inp'].values)\n",
    "joblib.dump(tknizer_informal, 'tknizer_informal.pkl')\n",
    "\n",
    "# Tokenizing formal data with case preservation and excluding common punctuations like .,?!:;\n",
    "tknizer_formal = Tokenizer(filters = '\"#$%&()*+-/=@[\\\\]^_`{|}~\\t\\n', lower = False, char_level = True)\n",
    "\n",
    "# Introducing '<end>' token on first sentence so that vocabulary learns it\n",
    "train['decoder_inp'].iloc[0] = train['decoder_inp'].iloc[0] + '>'\n",
    "tknizer_formal.fit_on_texts(train['decoder_inp'].values)\n",
    "joblib.dump(tknizer_formal, 'tknizer_formal.pkl')\n",
    "\n",
    "# Printing sizes of vocabularies\n",
    "vocab_size_informal = len(tknizer_informal.word_index.keys())\n",
    "print(f\"Vocab size of Informal text: {vocab_size_informal}\")\n",
    "vocab_size_formal = len(tknizer_formal.word_index.keys())\n",
    "print(f\"Vocab size of Formal text: {vocab_size_formal}\")"
   ]
  },
  {
   "cell_type": "markdown",
   "metadata": {
    "id": "A2536haleLxh"
   },
   "source": [
    "<h3>Padding data:</h3>"
   ]
  },
  {
   "cell_type": "code",
   "execution_count": 9,
   "metadata": {
    "id": "0EFZ2vaJczjl"
   },
   "outputs": [],
   "source": [
    "# Encoding the sentences by numerical ids in place of words\n",
    "encoder_seq = tknizer_informal.texts_to_sequences(train['encoder_inp'].values)\n",
    "decoder_inp_seq = tknizer_formal.texts_to_sequences(train['decoder_inp'].values)\n",
    "decoder_out_seq = tknizer_formal.texts_to_sequences(train['decoder_out'].values)\n",
    "# Padding the sentences to make all the sentences of same length\n",
    "encoder_seq = pad_sequences(encoder_seq, maxlen = 200, dtype='int32', padding='post')\n",
    "decoder_inp_seq = pad_sequences(decoder_inp_seq, maxlen = 200, dtype='int32', padding='post')\n",
    "decoder_out_seq = pad_sequences(decoder_out_seq, maxlen = 200, dtype='int32', padding='post')"
   ]
  },
  {
   "cell_type": "markdown",
   "metadata": {
    "id": "7akiMa73eLxi"
   },
   "source": [
    "<h2>3. Designing the Data Pipeline:</h2>"
   ]
  },
  {
   "cell_type": "markdown",
   "metadata": {
    "id": "XtzmLiQVeLxi"
   },
   "source": [
    "<h3>Preprocessing the Data:</h3>"
   ]
  },
  {
   "cell_type": "code",
   "execution_count": 10,
   "metadata": {
    "id": "9DmllfJ6czjw"
   },
   "outputs": [],
   "source": [
    "class Dataset:\n",
    "    \n",
    "    def __init__(self, data, tknizer_informal, tknizer_formal, max_len):\n",
    "        \n",
    "        self.encoder_inps = data['encoder_inp'].values\n",
    "        self.decoder_inps = data['decoder_inp'].values\n",
    "        self.decoder_outs = data['decoder_out'].values\n",
    "        self.tknizer_informal = tknizer_informal\n",
    "        self.tknizer_formal = tknizer_formal\n",
    "        self.max_len = max_len\n",
    "\n",
    "    def __getitem__(self, i):\n",
    "        \n",
    "        # Tokenizing the sequences by passing them in lists as required by tokenizer\n",
    "        self.encoder_inp_seq = self.tknizer_informal.texts_to_sequences([self.encoder_inps[i]])\n",
    "        self.decoder_inp_seq = self.tknizer_formal.texts_to_sequences([self.decoder_inps[i]])\n",
    "        self.decoder_out_seq = self.tknizer_formal.texts_to_sequences([self.decoder_outs[i]])\n",
    "        \n",
    "        # Padding the sequences with zeros\n",
    "        self.encoder_inp_seq = pad_sequences(self.encoder_inp_seq, maxlen = self.max_len, dtype = 'int32', padding = 'post')\n",
    "        self.decoder_inp_seq = pad_sequences(self.decoder_inp_seq, maxlen = self.max_len, dtype = 'int32', padding = 'post')\n",
    "        self.decoder_out_seq = pad_sequences(self.decoder_out_seq, maxlen = self.max_len, dtype = 'int32', padding = 'post')\n",
    "        return self.encoder_inp_seq, self.decoder_inp_seq, self.decoder_out_seq\n",
    "\n",
    "    def __len__(self):\n",
    "        \n",
    "        return len(self.encoder_inps)"
   ]
  },
  {
   "cell_type": "markdown",
   "metadata": {
    "id": "ig7aOGcgeLxj"
   },
   "source": [
    "<h3>Creating Dataloader:</h3>"
   ]
  },
  {
   "cell_type": "code",
   "execution_count": 11,
   "metadata": {
    "id": "HhZVLwhcczjx"
   },
   "outputs": [],
   "source": [
    "class Dataloader(tf.keras.utils.Sequence):    \n",
    "\n",
    "    def __init__(self, dataset, batch_size = 1):\n",
    "        \n",
    "        self.dataset = dataset\n",
    "        self.batch_size = batch_size\n",
    "        self.indexes = np.arange(len(self.dataset.encoder_inps))\n",
    "\n",
    "    def __getitem__(self, i):\n",
    "        \n",
    "        # Tracking indices of start and stop\n",
    "        start = i * self.batch_size\n",
    "        stop = (i + 1) * self.batch_size\n",
    "        data = []\n",
    "        for j in range(start, stop):\n",
    "            data.append(self.dataset[j])\n",
    "        # Creating data in tuples of form ([[encoder_inp], [decoder_inp]], decoder_out)\n",
    "        batch = [np.squeeze(np.stack(samples, axis = 1), axis = 0) for samples in zip(*data)]\n",
    "        return tuple([[batch[0],batch[1]],batch[2]])\n",
    "\n",
    "    def __len__(self):\n",
    "        \n",
    "        return len(self.indexes) // self.batch_size\n",
    "\n",
    "    def on_epoch_end(self):\n",
    "        \n",
    "        self.indexes = np.random.permutation(self.indexes)"
   ]
  },
  {
   "cell_type": "code",
   "execution_count": 12,
   "metadata": {
    "colab": {
     "base_uri": "https://localhost:8080/"
    },
    "executionInfo": {
     "elapsed": 20,
     "status": "ok",
     "timestamp": 1625392365879,
     "user": {
      "displayName": "Bhaiya Mail",
      "photoUrl": "",
      "userId": "14007713349458994505"
     },
     "user_tz": -330
    },
    "id": "WC1hK_ydczjy",
    "outputId": "fcf3f6f2-196c-4b19-a895-289fb82cd969"
   },
   "outputs": [
    {
     "name": "stdout",
     "output_type": "stream",
     "text": [
      "(128, 200) (128, 200) (128, 200)\n"
     ]
    }
   ],
   "source": [
    "# Defining parameters\n",
    "BATCH_SIZE = 128\n",
    "MAX_LEN = 200\n",
    "\n",
    "# Preprocessing data\n",
    "train_dataset = Dataset(train, tknizer_informal, tknizer_formal, MAX_LEN)\n",
    "validation_dataset  = Dataset(validation, tknizer_formal, tknizer_formal, MAX_LEN)\n",
    "\n",
    "# Creating Dataloader\n",
    "train_dataloader = Dataloader(train_dataset, batch_size = BATCH_SIZE)\n",
    "validation_dataloader = Dataloader(validation_dataset, batch_size = BATCH_SIZE)\n",
    "\n",
    "# Checking the dimensions \n",
    "print(train_dataloader[0][0][0].shape, train_dataloader[0][0][1].shape, train_dataloader[0][1].shape)"
   ]
  },
  {
   "cell_type": "markdown",
   "metadata": {
    "id": "0ShWbmX3eLxk"
   },
   "source": [
    "<h2>4. Designing the Attention based Encoder Decoder Model:</h2>"
   ]
  },
  {
   "cell_type": "markdown",
   "metadata": {
    "id": "_eljmRXaeLxk"
   },
   "source": [
    "<h3>Encoder:</h3>"
   ]
  },
  {
   "cell_type": "code",
   "execution_count": 13,
   "metadata": {
    "id": "e8-dIC2cczj4"
   },
   "outputs": [],
   "source": [
    "class Encoder(tf.keras.Model):\n",
    "    \n",
    "    def __init__(self, inp_vocab_size, embedding_dim, lstm_size, input_length):\n",
    "    \n",
    "        super().__init__()\n",
    "        # Initializing the parameters\n",
    "        self.inp_vocab_size = inp_vocab_size\n",
    "        self.embedding_dim = embedding_dim\n",
    "        self.lstm_size = lstm_size\n",
    "        self.input_length = input_length\n",
    "        \n",
    "        # Initializing Embedding layer\n",
    "        self.embedding = Embedding(input_dim = self.inp_vocab_size, output_dim = self.embedding_dim,\n",
    "                                   embeddings_initializer = tf.keras.initializers.RandomNormal(mean = 0, stddev = 1, seed = 859),\n",
    "                                   input_length = self.input_length, mask_zero = True, name = \"Encoder_Embedding\")\n",
    "        \n",
    "        #Intializing Encoder LSTM layer\n",
    "        self.lstm1 = LSTM(self.lstm_size, return_state = True, return_sequences = True,\n",
    "                          kernel_initializer = tf.keras.initializers.glorot_uniform(seed = 859),\n",
    "                          recurrent_initializer = tf.keras.initializers.orthogonal(seed = 859), name = \"Encoder_LSTM1\")\n",
    "        self.lstm2 = LSTM(self.lstm_size, return_state = True, return_sequences = True,\n",
    "                          kernel_initializer = tf.keras.initializers.glorot_uniform(seed = 859),\n",
    "                          recurrent_initializer = tf.keras.initializers.orthogonal(seed = 859), name = \"Encoder_LSTM2\")\n",
    "\n",
    "    def call(self, input):\n",
    "        \n",
    "        # Unpacking the input\n",
    "        input_sequence, states = input[0], input[1]\n",
    "        \n",
    "        # Passing input sequence to embedding layer\n",
    "        input_embedded = self.embedding(input_sequence)\n",
    "        \n",
    "        # Passing embedidng layer output to lstm layer\n",
    "        self.enc_output, self.last_hidden_state, self.last_current_state = self.lstm1(input_embedded, initial_state = states)\n",
    "        self.enc_output, self.last_hidden_state, self.last_current_state = self.lstm2(self.enc_output, [self.last_hidden_state, self.last_current_state])\n",
    "        \n",
    "        # Returning the outputs\n",
    "        return self.enc_output, self.last_hidden_state, self.last_current_state\n",
    "      \n",
    "    def initialize_states(self, batch_size):\n",
    "      \n",
    "      self.first_hidden_state, self.first_current_state = tf.zeros([batch_size, self.lstm_size]), tf.zeros([batch_size, self.lstm_size])\n",
    "      \n",
    "    # Returning the initializations\n",
    "      return self.first_hidden_state, self.first_current_state"
   ]
  },
  {
   "cell_type": "markdown",
   "metadata": {
    "id": "RD8criYWeLxl"
   },
   "source": [
    "<h3>Designing Attention Model:</h3>"
   ]
  },
  {
   "cell_type": "code",
   "execution_count": 14,
   "metadata": {
    "id": "Ex5A2Sivczj5"
   },
   "outputs": [],
   "source": [
    "class Attention(tf.keras.Model):\n",
    "    \n",
    "    def __init__(self, lstm_size, scoring_function):\n",
    "        super(Attention, self).__init__()\n",
    "        \n",
    "        # Initializing the parameters\n",
    "        self.lstm_size = lstm_size\n",
    "        self.scoring_function = scoring_function\n",
    "        \n",
    "        # Initializing weights for 'dot' scoring function\n",
    "        if self.scoring_function=='dot':\n",
    "            self.V = tf.keras.layers.Dense(1)\n",
    "        # Initializing weights for 'general' scoring function\n",
    "        if scoring_function == 'general':\n",
    "            self.W = tf.keras.layers.Dense(lstm_size)\n",
    "        # Initializing weights for 'concat' scoring function\n",
    "        if scoring_function == 'concat':\n",
    "            self.W1 = tf.keras.layers.Dense(lstm_size)\n",
    "            self.W2 = tf.keras.layers.Dense(lstm_size)\n",
    "            self.V = tf.keras.layers.Dense(1)\n",
    "        \n",
    "    def call(self,input):\n",
    "\n",
    "        # Unpacking the input\n",
    "        decoder_hidden_state, encoder_output = input[0], input[1]\n",
    "        if self.scoring_function == 'dot':\n",
    "            # Implement Dot score function here\n",
    "            query_with_time_axis = tf.expand_dims(decoder_hidden_state, 1)\n",
    "            score = self.V(tf.linalg.matmul(encoder_output, query_with_time_axis, transpose_a=False, transpose_b=True))\n",
    "            \n",
    "        elif self.scoring_function == 'general':\n",
    "            # Implement General score function here\n",
    "            decoder_hidden_state = tf.expand_dims(decoder_hidden_state, axis = 2)\n",
    "            output = self.W(encoder_output)\n",
    "            score = tf.keras.layers.Dot(axes=(2, 1))([output, decoder_hidden_state])\n",
    "        if self.scoring_function == 'concat':\n",
    "            # Implement General score function here\n",
    "            decoder_hidden_state = tf.expand_dims(decoder_hidden_state, 1)      \n",
    "            score = self.V(tf.nn.tanh(self.W1(decoder_hidden_state) + self.W2(encoder_output)))\n",
    "        \n",
    "        # Calculating context vector and attention weights\n",
    "        attention_weights = tf.nn.softmax(score, axis=1)\n",
    "        context_vector = attention_weights * encoder_output\n",
    "        context_vector = tf.reduce_sum(context_vector, axis=1)\n",
    "        return context_vector, attention_weights"
   ]
  },
  {
   "cell_type": "markdown",
   "metadata": {
    "id": "c8X7Dq_teLxm"
   },
   "source": [
    "<h3>Designing Timestep Decoder:</h3>"
   ]
  },
  {
   "cell_type": "code",
   "execution_count": 15,
   "metadata": {
    "id": "sZec7_uXczj5"
   },
   "outputs": [],
   "source": [
    "class Timestep_Decoder(tf.keras.Model):\n",
    "    \n",
    "    def __init__(self, out_vocab_size, embedding_dim, input_length, lstm_size, scoring_function, embedding_matrix = None):\n",
    "        # Initialize the parameters\n",
    "        super().__init__()\n",
    "        self.out_vocab_size = out_vocab_size\n",
    "        self.embedding_dim = embedding_dim\n",
    "        self.input_length = input_length\n",
    "        self.lstm_size = lstm_size\n",
    "        self.scoring_function = scoring_function\n",
    "        self.attention = Attention(self.lstm_size, self.scoring_function)\n",
    "        self.embedding_matrix = embedding_matrix\n",
    "        \n",
    "        # Initializing Embedding layer based on the availability of Embedding matrix\n",
    "        if self.embedding_matrix is None:\n",
    "            self.embedding = Embedding(input_dim = self.out_vocab_size, output_dim = self.embedding_dim,\n",
    "                                       embeddings_initializer = tf.keras.initializers.RandomNormal(mean = 0, stddev = 1, seed = 859),\n",
    "                                       input_length = self.input_length, mask_zero = True, name = \"embedding_layer_decoder\")\n",
    "        else:\n",
    "            self.embedding = Embedding(input_dim = self.out_vocab_size, output_dim = self.embedding_dim,\n",
    "                                       input_length = self.input_length, mask_zero = True, name = \"embedding_layer_decoder\",\n",
    "                                       embeddings_initializer = tf.keras.initializers.Constant(self.embedding_matrix), trainable = False)\n",
    "        #Intialize Decoder LSTM layer\n",
    "        self.lstm1 = LSTM(self.lstm_size, return_state = True, return_sequences = True,\n",
    "                          kernel_initializer = tf.keras.initializers.glorot_uniform(seed = 859),\n",
    "                          recurrent_initializer = tf.keras.initializers.orthogonal(seed = 859), name = \"Timestep_Decoder_LSTM1\")\n",
    "        self.lstm2 = LSTM(self.lstm_size, return_state = True, return_sequences = True,\n",
    "                          kernel_initializer = tf.keras.initializers.glorot_uniform(seed = 859),\n",
    "                          recurrent_initializer = tf.keras.initializers.orthogonal(seed = 859), name = \"Timestep_Decoder_LSTM2\")\n",
    "        #Intialize Dense layer(tar_vocab_size) without activation='softmax'\n",
    "        self.dense = Dense(out_vocab_size)\n",
    "\n",
    "\n",
    "    def call(self, input):\n",
    "        \n",
    "        # Unpacking the input\n",
    "        input_token, encoder_output, encoder_hidden, encoder_current = input[0], input[1], input[2], input[3]\n",
    "        # Passing the decoder_input to the embedding layer\n",
    "        embedded_token = self.embedding(input_token)\n",
    "        # Passing encoder hidden and encoder output to attention model to get context vector\n",
    "        context_vector, attention_weights = self.attention([encoder_hidden, encoder_output])\n",
    "        # Reshaping context vector for concatenation\n",
    "        query_with_time_axis = tf.expand_dims(context_vector, 1)\n",
    "        # Concatenating context vector and embedded token\n",
    "        out_concat = tf.concat([query_with_time_axis, embedded_token], axis = -1)\n",
    "        # Getting final lstm hidden state\n",
    "        dec_output, encoder_hidden, encoder_current = self.lstm1(out_concat, [encoder_hidden, encoder_current])\n",
    "        dec_output, encoder_hidden, encoder_current = self.lstm2(dec_output, [encoder_hidden, encoder_current])\n",
    "        # Weighing decoder output by output vocabulary size\n",
    "        out = self.dense(tf.reshape(dec_output, (-1, dec_output.shape[2])))\n",
    "        # Returning the output\n",
    "        return out, encoder_hidden, encoder_current"
   ]
  },
  {
   "cell_type": "markdown",
   "metadata": {
    "id": "qZCy90NHeLxm"
   },
   "source": [
    "<h3>Designing Decoder:</h3>"
   ]
  },
  {
   "cell_type": "code",
   "execution_count": 16,
   "metadata": {
    "id": "5WLofz1hczj6"
   },
   "outputs": [],
   "source": [
    "class Decoder(tf.keras.Model):\n",
    "    \n",
    "    def __init__(self, out_vocab_size, embedding_dim, input_length, lstm_size, scoring_function, embedding_matrix = None):\n",
    "        super().__init__()\n",
    "        # Intializing the parameters\n",
    "        self.out_vocab_size = out_vocab_size\n",
    "        self.embedding_dim = embedding_dim\n",
    "        self.input_length = input_length\n",
    "        self.lstm_size = lstm_size\n",
    "        self.scoring_function = scoring_function\n",
    "        self.embedding_matrix = embedding_matrix\n",
    "        # Initializing Timestep decoder instance\n",
    "        self.timestepdecoder = Timestep_Decoder(self.out_vocab_size, self.embedding_dim, self.input_length,\n",
    "                                                self.lstm_size, self.scoring_function, self.embedding_matrix)\n",
    "    def call(self, input):\n",
    "        \n",
    "        # Unpacking the input\n",
    "        decoder_input, encoder_output, encoder_hidden, encoder_current = input[0], input[1], input[2], input[3]\n",
    "        \n",
    "        # Initializing an empty Tensor array, that will store the outputs at each and every time step\n",
    "        all_outputs = tf.TensorArray(tf.float32, size = tf.shape(decoder_input)[1], name = \"output_array\")\n",
    "        \n",
    "        # Iterating till the length of the decoder input\n",
    "        loop = tf.shape(decoder_input)[1]\n",
    "        for timestep in range(loop):\n",
    "            # Calling the Timestep Decoder for each token in decoder input\n",
    "            output, encoder_hidden, encoder_current = self.timestepdecoder([decoder_input[:, timestep:timestep+1], encoder_output, encoder_hidden, encoder_current])\n",
    "            # Storing the output in tensorarray\n",
    "            all_outputs = all_outputs.write(timestep, output)\n",
    "        \n",
    "        # Reshaping the tensor array\n",
    "        all_outputs = tf.transpose(all_outputs.stack(), [1,0,2])\n",
    "        \n",
    "        # Returning the tensor array\n",
    "        return all_outputs"
   ]
  },
  {
   "cell_type": "markdown",
   "metadata": {
    "id": "DBVUjVxOeLxn"
   },
   "source": [
    "<h3>Designing Final Model Architechture:</h3>"
   ]
  },
  {
   "cell_type": "code",
   "execution_count": 17,
   "metadata": {
    "id": "nYs_ShAuUq1e"
   },
   "outputs": [],
   "source": [
    "class Attention_Based_Encoder_Decoder(tf.keras.Model):\n",
    "    \n",
    "    def __init__(self, input_length, inp_vocab_size, out_vocab_size, lstm_size, scoring_function, batch_size, embedding_dim, embedding_matrix = None):\n",
    "        \n",
    "        super().__init__()\n",
    "        # Initializing the parameters\n",
    "        self.input_length = input_length\n",
    "        self.inp_vocab_size = inp_vocab_size + 1\n",
    "        self.out_vocab_size = out_vocab_size + 1\n",
    "        self.lstm_size = lstm_size\n",
    "        self.scoring_function = scoring_function\n",
    "        self.batch_size = batch_size\n",
    "        self.embedding_dim = embedding_dim\n",
    "        self.embedding_matrix = embedding_matrix\n",
    "        #Creating Encoder model object\n",
    "        self.encoder = Encoder(inp_vocab_size = self.inp_vocab_size, embedding_dim = self.embedding_dim, lstm_size = self.lstm_size, input_length = self.input_length)\n",
    "        #Creating Decoder model object\n",
    "        self.decoder = Decoder(out_vocab_size = self.out_vocab_size, embedding_dim = self.embedding_dim, lstm_size = self.lstm_size,\n",
    "                               scoring_function = self.scoring_function, input_length = self.input_length, embedding_matrix = self.embedding_matrix)\n",
    "    \n",
    "    def call(self, data):\n",
    "        \n",
    "        # Unpacking data\n",
    "        enc_inp, dec_inp = data[0], data[1]\n",
    "        # Initializing Encoder initial states\n",
    "        initial_state = self.encoder.initialize_states(self.batch_size)\n",
    "        # Calling Encoder model object\n",
    "        encoder_output, encoder_hidden, encoder_current = self.encoder([enc_inp, initial_state])\n",
    "        # Calling Decoder model object\n",
    "        final_output = self.decoder([dec_inp, encoder_output, encoder_hidden, encoder_current])\n",
    "        return final_output"
   ]
  },
  {
   "cell_type": "markdown",
   "metadata": {
    "id": "LVs0mWZ0eLxo"
   },
   "source": [
    "<h2>5. Designing the Model Pipeline:</h2>"
   ]
  },
  {
   "cell_type": "markdown",
   "metadata": {
    "id": "KJVaOQk6eLxo"
   },
   "source": [
    "<h3>Creating Custom Loss Function:</h3>"
   ]
  },
  {
   "cell_type": "code",
   "execution_count": 18,
   "metadata": {
    "id": "uoloKRdXUwPv"
   },
   "outputs": [],
   "source": [
    "loss_object = tf.keras.losses.SparseCategoricalCrossentropy(from_logits = True, reduction = 'none')\n",
    "\n",
    "def loss_function(real, pred):\n",
    "    # Custom loss function that will not consider the loss for padded zeros.\n",
    "    # Refer https://www.tensorflow.org/tutorials/text/nmt_with_attention\n",
    "    # optimizer = tf.keras.optimizers.Adam()\n",
    "    mask = tf.math.logical_not(tf.math.equal(real, 0))\n",
    "    loss_ = loss_object(real, pred)\n",
    "    mask = tf.cast(mask, dtype=loss_.dtype)\n",
    "    loss_ *= mask\n",
    "    return tf.reduce_mean(loss_)"
   ]
  },
  {
   "cell_type": "markdown",
   "metadata": {
    "id": "kHdFCBcxeLxp"
   },
   "source": [
    "<h3>Creating Tensorboard Callback:</h3>"
   ]
  },
  {
   "cell_type": "code",
   "execution_count": 19,
   "metadata": {
    "id": "DnLIk5IYczjz"
   },
   "outputs": [],
   "source": [
    "def create_tensorboard_cb(model):\n",
    "\n",
    "    import time\n",
    "    root_logdir = os.path.join(os.curdir, model)\n",
    "    run_id = time.strftime(\"run_%Y_%m_%d-%H_%M_%S\")\n",
    "    logdir = os.path.join(root_logdir, run_id)\n",
    "    return tf.keras.callbacks.TensorBoard(logdir, histogram_freq = 1)"
   ]
  },
  {
   "cell_type": "markdown",
   "metadata": {
    "id": "GP2IhcVfeLxs"
   },
   "source": [
    "<h2>6. Training the Model using Dot Scoring Function:</h2>"
   ]
  },
  {
   "cell_type": "markdown",
   "metadata": {
    "id": "xk1jrMQveLxs"
   },
   "source": [
    "<h3>Compiling and Fitting the model:</h3>"
   ]
  },
  {
   "cell_type": "code",
   "execution_count": 20,
   "metadata": {
    "colab": {
     "base_uri": "https://localhost:8080/"
    },
    "executionInfo": {
     "elapsed": 2215121,
     "status": "ok",
     "timestamp": 1625395086297,
     "user": {
      "displayName": "Bhaiya Mail",
      "photoUrl": "",
      "userId": "14007713349458994505"
     },
     "user_tz": -330
    },
    "id": "UIFh66SaUwSx",
    "outputId": "b54d6fb5-fa6c-4484-9b54-8c3409604be3"
   },
   "outputs": [
    {
     "name": "stdout",
     "output_type": "stream",
     "text": [
      "Epoch 1/50\n",
      "58/58 [==============================] - ETA: 0s - loss: 0.8566 INFO:tensorflow:Assets written to: Model_Dot/assets\n"
     ]
    },
    {
     "name": "stderr",
     "output_type": "stream",
     "text": [
      "INFO:tensorflow:Assets written to: Model_Dot/assets\n",
      "WARNING:absl:<__main__.Attention object at 0x7f8d3dee5fa0> has the same name 'Attention' as a built-in Keras object. Consider renaming <class '__main__.Attention'> to avoid naming conflicts when loading with `tf.keras.models.load_model`. If renaming is not possible, pass the object in the `custom_objects` parameter of the load function.\n"
     ]
    },
    {
     "name": "stdout",
     "output_type": "stream",
     "text": [
      "58/58 [==============================] - 623s 11s/step - loss: 0.8566 - val_loss: 0.6486 - lr: 0.0100\n",
      "Epoch 2/50\n",
      "58/58 [==============================] - ETA: 0s - loss: 0.5612 INFO:tensorflow:Assets written to: Model_Dot/assets\n"
     ]
    },
    {
     "name": "stderr",
     "output_type": "stream",
     "text": [
      "INFO:tensorflow:Assets written to: Model_Dot/assets\n",
      "WARNING:absl:<__main__.Attention object at 0x7f8d3dee5fa0> has the same name 'Attention' as a built-in Keras object. Consider renaming <class '__main__.Attention'> to avoid naming conflicts when loading with `tf.keras.models.load_model`. If renaming is not possible, pass the object in the `custom_objects` parameter of the load function.\n"
     ]
    },
    {
     "name": "stdout",
     "output_type": "stream",
     "text": [
      "58/58 [==============================] - 619s 11s/step - loss: 0.5612 - val_loss: 0.5404 - lr: 0.0100\n",
      "Epoch 3/50\n",
      "58/58 [==============================] - ETA: 0s - loss: 0.4792 INFO:tensorflow:Assets written to: Model_Dot/assets\n"
     ]
    },
    {
     "name": "stderr",
     "output_type": "stream",
     "text": [
      "INFO:tensorflow:Assets written to: Model_Dot/assets\n",
      "WARNING:absl:<__main__.Attention object at 0x7f8d3dee5fa0> has the same name 'Attention' as a built-in Keras object. Consider renaming <class '__main__.Attention'> to avoid naming conflicts when loading with `tf.keras.models.load_model`. If renaming is not possible, pass the object in the `custom_objects` parameter of the load function.\n"
     ]
    },
    {
     "name": "stdout",
     "output_type": "stream",
     "text": [
      "58/58 [==============================] - 613s 11s/step - loss: 0.4792 - val_loss: 0.5005 - lr: 0.0100\n",
      "Epoch 4/50\n",
      "58/58 [==============================] - ETA: 0s - loss: 0.4347INFO:tensorflow:Assets written to: Model_Dot/assets\n"
     ]
    },
    {
     "name": "stderr",
     "output_type": "stream",
     "text": [
      "INFO:tensorflow:Assets written to: Model_Dot/assets\n",
      "WARNING:absl:<__main__.Attention object at 0x7f8d3dee5fa0> has the same name 'Attention' as a built-in Keras object. Consider renaming <class '__main__.Attention'> to avoid naming conflicts when loading with `tf.keras.models.load_model`. If renaming is not possible, pass the object in the `custom_objects` parameter of the load function.\n"
     ]
    },
    {
     "name": "stdout",
     "output_type": "stream",
     "text": [
      "58/58 [==============================] - 590s 10s/step - loss: 0.4347 - val_loss: 0.4688 - lr: 0.0100\n",
      "Epoch 5/50\n",
      "58/58 [==============================] - ETA: 0s - loss: 0.4026INFO:tensorflow:Assets written to: Model_Dot/assets\n"
     ]
    },
    {
     "name": "stderr",
     "output_type": "stream",
     "text": [
      "INFO:tensorflow:Assets written to: Model_Dot/assets\n",
      "WARNING:absl:<__main__.Attention object at 0x7f8d3dee5fa0> has the same name 'Attention' as a built-in Keras object. Consider renaming <class '__main__.Attention'> to avoid naming conflicts when loading with `tf.keras.models.load_model`. If renaming is not possible, pass the object in the `custom_objects` parameter of the load function.\n"
     ]
    },
    {
     "name": "stdout",
     "output_type": "stream",
     "text": [
      "58/58 [==============================] - 589s 10s/step - loss: 0.4026 - val_loss: 0.4552 - lr: 0.0100\n",
      "Epoch 6/50\n",
      "58/58 [==============================] - ETA: 0s - loss: 0.3769INFO:tensorflow:Assets written to: Model_Dot/assets\n"
     ]
    },
    {
     "name": "stderr",
     "output_type": "stream",
     "text": [
      "INFO:tensorflow:Assets written to: Model_Dot/assets\n",
      "WARNING:absl:<__main__.Attention object at 0x7f8d3dee5fa0> has the same name 'Attention' as a built-in Keras object. Consider renaming <class '__main__.Attention'> to avoid naming conflicts when loading with `tf.keras.models.load_model`. If renaming is not possible, pass the object in the `custom_objects` parameter of the load function.\n"
     ]
    },
    {
     "name": "stdout",
     "output_type": "stream",
     "text": [
      "58/58 [==============================] - 575s 10s/step - loss: 0.3769 - val_loss: 0.4370 - lr: 0.0100\n",
      "Epoch 7/50\n",
      "58/58 [==============================] - ETA: 0s - loss: 0.3592INFO:tensorflow:Assets written to: Model_Dot/assets\n"
     ]
    },
    {
     "name": "stderr",
     "output_type": "stream",
     "text": [
      "INFO:tensorflow:Assets written to: Model_Dot/assets\n",
      "WARNING:absl:<__main__.Attention object at 0x7f8d3dee5fa0> has the same name 'Attention' as a built-in Keras object. Consider renaming <class '__main__.Attention'> to avoid naming conflicts when loading with `tf.keras.models.load_model`. If renaming is not possible, pass the object in the `custom_objects` parameter of the load function.\n"
     ]
    },
    {
     "name": "stdout",
     "output_type": "stream",
     "text": [
      "58/58 [==============================] - 584s 10s/step - loss: 0.3592 - val_loss: 0.4289 - lr: 0.0100\n",
      "Epoch 8/50\n",
      "58/58 [==============================] - ETA: 0s - loss: 0.3457INFO:tensorflow:Assets written to: Model_Dot/assets\n"
     ]
    },
    {
     "name": "stderr",
     "output_type": "stream",
     "text": [
      "INFO:tensorflow:Assets written to: Model_Dot/assets\n",
      "WARNING:absl:<__main__.Attention object at 0x7f8d3dee5fa0> has the same name 'Attention' as a built-in Keras object. Consider renaming <class '__main__.Attention'> to avoid naming conflicts when loading with `tf.keras.models.load_model`. If renaming is not possible, pass the object in the `custom_objects` parameter of the load function.\n"
     ]
    },
    {
     "name": "stdout",
     "output_type": "stream",
     "text": [
      "58/58 [==============================] - 584s 10s/step - loss: 0.3457 - val_loss: 0.4174 - lr: 0.0100\n",
      "Epoch 9/50\n",
      "58/58 [==============================] - ETA: 0s - loss: 0.3356\n",
      "Epoch 9: ReduceLROnPlateau reducing learning rate to 0.004999999888241291.\n",
      "58/58 [==============================] - 572s 10s/step - loss: 0.3356 - val_loss: 0.4207 - lr: 0.0100\n",
      "Epoch 10/50\n",
      "58/58 [==============================] - ETA: 0s - loss: 0.2964INFO:tensorflow:Assets written to: Model_Dot/assets\n"
     ]
    },
    {
     "name": "stderr",
     "output_type": "stream",
     "text": [
      "INFO:tensorflow:Assets written to: Model_Dot/assets\n",
      "WARNING:absl:<__main__.Attention object at 0x7f8d3dee5fa0> has the same name 'Attention' as a built-in Keras object. Consider renaming <class '__main__.Attention'> to avoid naming conflicts when loading with `tf.keras.models.load_model`. If renaming is not possible, pass the object in the `custom_objects` parameter of the load function.\n"
     ]
    },
    {
     "name": "stdout",
     "output_type": "stream",
     "text": [
      "58/58 [==============================] - 589s 10s/step - loss: 0.2964 - val_loss: 0.3834 - lr: 0.0050\n",
      "Epoch 11/50\n",
      "58/58 [==============================] - ETA: 0s - loss: 0.2670INFO:tensorflow:Assets written to: Model_Dot/assets\n"
     ]
    },
    {
     "name": "stderr",
     "output_type": "stream",
     "text": [
      "INFO:tensorflow:Assets written to: Model_Dot/assets\n",
      "WARNING:absl:<__main__.Attention object at 0x7f8d3dee5fa0> has the same name 'Attention' as a built-in Keras object. Consider renaming <class '__main__.Attention'> to avoid naming conflicts when loading with `tf.keras.models.load_model`. If renaming is not possible, pass the object in the `custom_objects` parameter of the load function.\n"
     ]
    },
    {
     "name": "stdout",
     "output_type": "stream",
     "text": [
      "58/58 [==============================] - 580s 10s/step - loss: 0.2670 - val_loss: 0.3768 - lr: 0.0050\n",
      "Epoch 12/50\n",
      "58/58 [==============================] - ETA: 0s - loss: 0.2525\n",
      "Epoch 12: ReduceLROnPlateau reducing learning rate to 0.0024999999441206455.\n",
      "58/58 [==============================] - 574s 10s/step - loss: 0.2525 - val_loss: 0.3773 - lr: 0.0050\n",
      "Epoch 13/50\n",
      "58/58 [==============================] - ETA: 0s - loss: 0.2222INFO:tensorflow:Assets written to: Model_Dot/assets\n"
     ]
    },
    {
     "name": "stderr",
     "output_type": "stream",
     "text": [
      "INFO:tensorflow:Assets written to: Model_Dot/assets\n",
      "WARNING:absl:<__main__.Attention object at 0x7f8d3dee5fa0> has the same name 'Attention' as a built-in Keras object. Consider renaming <class '__main__.Attention'> to avoid naming conflicts when loading with `tf.keras.models.load_model`. If renaming is not possible, pass the object in the `custom_objects` parameter of the load function.\n"
     ]
    },
    {
     "name": "stdout",
     "output_type": "stream",
     "text": [
      "58/58 [==============================] - 600s 10s/step - loss: 0.2222 - val_loss: 0.3632 - lr: 0.0025\n",
      "Epoch 14/50\n",
      "58/58 [==============================] - ETA: 0s - loss: 0.2009 INFO:tensorflow:Assets written to: Model_Dot/assets\n"
     ]
    },
    {
     "name": "stderr",
     "output_type": "stream",
     "text": [
      "INFO:tensorflow:Assets written to: Model_Dot/assets\n",
      "WARNING:absl:<__main__.Attention object at 0x7f8d3dee5fa0> has the same name 'Attention' as a built-in Keras object. Consider renaming <class '__main__.Attention'> to avoid naming conflicts when loading with `tf.keras.models.load_model`. If renaming is not possible, pass the object in the `custom_objects` parameter of the load function.\n"
     ]
    },
    {
     "name": "stdout",
     "output_type": "stream",
     "text": [
      "58/58 [==============================] - 609s 10s/step - loss: 0.2009 - val_loss: 0.3608 - lr: 0.0025\n",
      "Epoch 15/50\n",
      "58/58 [==============================] - ETA: 0s - loss: 0.1894 \n",
      "Epoch 15: ReduceLROnPlateau reducing learning rate to 0.0012499999720603228.\n",
      "58/58 [==============================] - 586s 10s/step - loss: 0.1894 - val_loss: 0.3613 - lr: 0.0025\n",
      "Epoch 16/50\n",
      "58/58 [==============================] - ETA: 0s - loss: 0.1705 INFO:tensorflow:Assets written to: Model_Dot/assets\n"
     ]
    },
    {
     "name": "stderr",
     "output_type": "stream",
     "text": [
      "INFO:tensorflow:Assets written to: Model_Dot/assets\n",
      "WARNING:absl:<__main__.Attention object at 0x7f8d3dee5fa0> has the same name 'Attention' as a built-in Keras object. Consider renaming <class '__main__.Attention'> to avoid naming conflicts when loading with `tf.keras.models.load_model`. If renaming is not possible, pass the object in the `custom_objects` parameter of the load function.\n"
     ]
    },
    {
     "name": "stdout",
     "output_type": "stream",
     "text": [
      "58/58 [==============================] - 615s 11s/step - loss: 0.1705 - val_loss: 0.3545 - lr: 0.0012\n",
      "Epoch 17/50\n",
      "58/58 [==============================] - ETA: 0s - loss: 0.1578 \n",
      "Epoch 17: ReduceLROnPlateau reducing learning rate to 0.0006249999860301614.\n",
      "58/58 [==============================] - 588s 10s/step - loss: 0.1578 - val_loss: 0.3553 - lr: 0.0012\n",
      "Epoch 18/50\n",
      "58/58 [==============================] - ETA: 0s - loss: 0.1466 \n",
      "Epoch 18: ReduceLROnPlateau reducing learning rate to 0.0003124999930150807.\n",
      "58/58 [==============================] - 591s 10s/step - loss: 0.1466 - val_loss: 0.3550 - lr: 6.2500e-04\n",
      "Epoch 19/50\n",
      "58/58 [==============================] - ETA: 0s - loss: 0.1390 \n",
      "Epoch 19: ReduceLROnPlateau reducing learning rate to 0.00015624999650754035.\n",
      "Restoring model weights from the end of the best epoch: 16.\n",
      "58/58 [==============================] - 587s 10s/step - loss: 0.1390 - val_loss: 0.3564 - lr: 3.1250e-04\n",
      "Epoch 19: early stopping\n",
      "Model: \"attention__based__encoder__decoder\"\n",
      "_________________________________________________________________\n",
      " Layer (type)                Output Shape              Param #   \n",
      "=================================================================\n",
      " encoder (Encoder)           multiple                  566332    \n",
      "                                                                 \n",
      " decoder (Decoder)           multiple                  742451    \n",
      "                                                                 \n",
      "=================================================================\n",
      "Total params: 1308783 (4.99 MB)\n",
      "Trainable params: 1308783 (4.99 MB)\n",
      "Non-trainable params: 0 (0.00 Byte)\n",
      "_________________________________________________________________\n"
     ]
    }
   ],
   "source": [
    "tf.random.set_seed(859)\n",
    "\n",
    "# Defining model parameters\n",
    "UNITS = 200\n",
    "EPOCHS = 50\n",
    "TRAIN_STEPS = train.shape[0]//BATCH_SIZE\n",
    "VALID_STEPS = validation.shape[0]//BATCH_SIZE\n",
    "\n",
    "# Defining model instance with 'dot' scoring function\n",
    "model_dot  = Attention_Based_Encoder_Decoder(input_length = MAX_LEN, inp_vocab_size = vocab_size_informal,\n",
    "                                             out_vocab_size = vocab_size_formal, lstm_size = UNITS,\n",
    "                                             scoring_function = 'dot', batch_size = BATCH_SIZE,\n",
    "                                             embedding_dim = vocab_size_formal, embedding_matrix = None)\n",
    "\n",
    "# Compiling the model using 'adam' optimizer and custom loss function\n",
    "optimizer = tf.keras.optimizers.Adam(0.01)\n",
    "model_dot.compile(optimizer = optimizer, loss = loss_function)\n",
    "\n",
    "# Creating callbacks to control model training\n",
    "learning_rate_cb = tf.keras.callbacks.ReduceLROnPlateau(monitor = 'val_loss', factor = 0.5, verbose = 1, patience = 1, min_lr = 0.0001)\n",
    "tensorboard_cb = create_tensorboard_cb(\"Model_Dot_logs\")\n",
    "stopper_cb = tf.keras.callbacks.EarlyStopping(monitor = 'val_loss', patience = 3, verbose = 1, restore_best_weights = True)\n",
    "checkpoint_cb = tf.keras.callbacks.ModelCheckpoint(\"Model_Dot\",save_best_only = True, save_weights_only = False)\n",
    "\n",
    "# Fitting the model on training data\n",
    "model_dot.fit(train_dataloader, steps_per_epoch = TRAIN_STEPS, epochs = EPOCHS,\n",
    "              callbacks = [learning_rate_cb, tensorboard_cb, stopper_cb, checkpoint_cb],\n",
    "              validation_data = validation_dataloader, validation_steps = VALID_STEPS)\n",
    "model_dot.summary()"
   ]
  },
  {
   "cell_type": "markdown",
   "metadata": {
    "id": "GrYZ0ZBAeLxu"
   },
   "source": [
    "<h3>Calculating the BLEU Score:</h3>"
   ]
  },
  {
   "cell_type": "markdown",
   "metadata": {},
   "source": [
    "<h3>Creating Predict Function:</h3>"
   ]
  },
  {
   "cell_type": "code",
   "execution_count": 21,
   "metadata": {},
   "outputs": [],
   "source": [
    "def predict(input_sentence, model):\n",
    "    \n",
    "    # Tokenizing and Padding the sentence\n",
    "    inputs = [tknizer_informal.word_index.get(i, 0) for i in input_sentence]\n",
    "    inputs = tf.keras.preprocessing.sequence.pad_sequences([inputs], maxlen = MAX_LEN, padding = 'post')\n",
    "    inputs = tf.convert_to_tensor(inputs)\n",
    "    \n",
    "    # Initializing result string and hidden states\n",
    "    result = ''\n",
    "    hidden = tf.zeros([1, UNITS]), tf.zeros([1, UNITS])\n",
    "    \n",
    "    # Getting Encoder outputs\n",
    "    enc_out, state_h, state_c = model.encoder([inputs, hidden])\n",
    "    dec_hidden = [state_h, state_c]\n",
    "    dec_input = tf.expand_dims([tknizer_formal.word_index['<']], 0)\n",
    "    \n",
    "    # Running loop until max length or the prediction is '>' token\n",
    "    for t in range(MAX_LEN):\n",
    "        # Getting Decoder outputs fot timestep t\n",
    "        output, state_h, state_c = model.decoder.timestepdecoder([dec_input, enc_out, state_h, state_c])\n",
    "        # Getting token index having highest probability\n",
    "        predicted_id = tf.argmax(output[0]).numpy()\n",
    "        # Getting output token\n",
    "        if tknizer_formal.index_word.get(predicted_id, '') == '>':\n",
    "            break\n",
    "        else:\n",
    "            result += tknizer_formal.index_word.get(predicted_id, '')\n",
    "            dec_input = tf.expand_dims([predicted_id], 0)\n",
    "    # Postprocessing the result string to remove spaces between punctuations\n",
    "    return result"
   ]
  },
  {
   "cell_type": "code",
   "execution_count": 22,
   "metadata": {
    "colab": {
     "base_uri": "https://localhost:8080/"
    },
    "executionInfo": {
     "elapsed": 121706,
     "status": "ok",
     "timestamp": 1625395207999,
     "user": {
      "displayName": "Bhaiya Mail",
      "photoUrl": "",
      "userId": "14007713349458994505"
     },
     "user_tz": -330
    },
    "id": "K1z8-FMj12uc",
    "outputId": "7e7b7ebc-f1f1-4ada-b3d6-366f0de5e94c"
   },
   "outputs": [
    {
     "name": "stdout",
     "output_type": "stream",
     "text": [
      "Mean Bleu score of predictions: 0.002340787050116306\n"
     ]
    }
   ],
   "source": [
    "# Removing '<' and '>' tokens and postprocessing punctuations to make plain texts\n",
    "def rem(s):\n",
    "    if s.startswith('<'):\n",
    "        s = s[1:]\n",
    "    if s.endswith('>'):\n",
    "        s = s[:-1]\n",
    "    return s\n",
    "test['informals'] = test['encoder_inp'].apply(rem)\n",
    "test['formals'] = test['decoder_inp'].apply(rem)\n",
    "\n",
    "def predictor(s):\n",
    "    # Modifing predictor using dot scoring function\n",
    "    result = predict(s, model_dot)\n",
    "    return result\n",
    "test['predictions'] = test['informals'].apply(predictor)\n",
    "\n",
    "# Process inputs for Bleu score\n",
    "def convert_formals(s):\n",
    "    return [s.split()]\n",
    "def convert_predictions(s):\n",
    "    return s.split()\n",
    "test['formals'] = test['formals'].apply(convert_formals)\n",
    "test['predictions'] = test['predictions'].apply(convert_predictions)\n",
    "bleu_scores_dot = [sentence_bleu(test['formals'].iloc[i], test['predictions'].iloc[i]) for i in range(len(test))]\n",
    "print(f\"Mean Bleu score of predictions: {np.mean(bleu_scores_dot)}\")"
   ]
  },
  {
   "cell_type": "code",
   "execution_count": 23,
   "metadata": {
    "colab": {
     "base_uri": "https://localhost:8080/",
     "height": 410
    },
    "executionInfo": {
     "elapsed": 827,
     "status": "ok",
     "timestamp": 1625403339168,
     "user": {
      "displayName": "Bhaiya Mail",
      "photoUrl": "",
      "userId": "14007713349458994505"
     },
     "user_tz": -330
    },
    "id": "b1AOHTm-lHBg",
    "outputId": "ac0d198c-b66a-42d9-91aa-7db35f3eda23"
   },
   "outputs": [
    {
     "data": {
      "image/png": "[encoded data removed]",
      "text/plain": [
       "<Figure size 360x360 with 1 Axes>"
      ]
     },
     "metadata": {
      "needs_background": "light"
     },
     "output_type": "display_data"
    }
   ],
   "source": [
    "plt.figure(figsize = (5, 5))\n",
    "ax = sns.distplot(bleu_scores_dot, hist = False, kde = True, kde_kws = {'shade': True, 'linewidth': 2}, color = \"green\")\n",
    "plt.title(\"Distribution of Bleu Scores by Dot Model\", fontdict = title_font, pad = 20.0)\n",
    "plt.xlabel(\"Bleu Score\", fontdict = label_font)\n",
    "plt.ylabel(\"Count\", fontdict = label_font)\n",
    "for label in (ax.get_xticklabels() + ax.get_yticklabels()):\n",
    "    label.set_fontname('Arial')\n",
    "    label.set_fontsize(14)\n",
    "plt.show()"
   ]
  },
  {
   "cell_type": "code",
   "execution_count": 24,
   "metadata": {
    "colab": {
     "base_uri": "https://localhost:8080/"
    },
    "executionInfo": {
     "elapsed": 368,
     "status": "ok",
     "timestamp": 1625409992732,
     "user": {
      "displayName": "Bhaiya Mail",
      "photoUrl": "",
      "userId": "14007713349458994505"
     },
     "user_tz": -330
    },
    "id": "6Fn6taY1vnkS",
    "outputId": "e033beac-7367-424d-dc86-7afc311c7e6b"
   },
   "outputs": [
    {
     "name": "stdout",
     "output_type": "stream",
     "text": [
      "Informal Sentence: how r u\n",
      "Formal Prediction: How are you?\n"
     ]
    }
   ],
   "source": [
    "print(\"Informal Sentence: how r u\")\n",
    "print(f\"Formal Prediction: {predict('how r u', model_dot)}\")"
   ]
  },
  {
   "cell_type": "markdown",
   "metadata": {
    "id": "SFNaLbl4eLxw"
   },
   "source": [
    "<h2>7. Training the Model using General Scoring Function:</h2>"
   ]
  },
  {
   "cell_type": "markdown",
   "metadata": {
    "id": "XpJPM09-eLxw"
   },
   "source": [
    "<h3>Compiling and Fitting the model:</h3>"
   ]
  },
  {
   "cell_type": "code",
   "execution_count": 25,
   "metadata": {
    "colab": {
     "base_uri": "https://localhost:8080/"
    },
    "executionInfo": {
     "elapsed": 2020931,
     "status": "ok",
     "timestamp": 1625409755853,
     "user": {
      "displayName": "Bhaiya Mail",
      "photoUrl": "",
      "userId": "14007713349458994505"
     },
     "user_tz": -330
    },
    "id": "rGGT5giUo6hl",
    "outputId": "4cbdd783-ad34-4ca9-faf6-093e57637671"
   },
   "outputs": [
    {
     "name": "stdout",
     "output_type": "stream",
     "text": [
      "Epoch 1/50\n",
      "58/58 [==============================] - ETA: 0s - loss: 0.8634 INFO:tensorflow:Assets written to: Model_General/assets\n"
     ]
    },
    {
     "name": "stderr",
     "output_type": "stream",
     "text": [
      "INFO:tensorflow:Assets written to: Model_General/assets\n",
      "WARNING:absl:<__main__.Attention object at 0x7f8ce87d31c0> has the same name 'Attention' as a built-in Keras object. Consider renaming <class '__main__.Attention'> to avoid naming conflicts when loading with `tf.keras.models.load_model`. If renaming is not possible, pass the object in the `custom_objects` parameter of the load function.\n"
     ]
    },
    {
     "name": "stdout",
     "output_type": "stream",
     "text": [
      "58/58 [==============================] - 1265s 22s/step - loss: 0.8634 - val_loss: 0.6843 - lr: 0.0100\n",
      "Epoch 2/50\n",
      "58/58 [==============================] - ETA: 0s - loss: 0.5879 INFO:tensorflow:Assets written to: Model_General/assets\n"
     ]
    },
    {
     "name": "stderr",
     "output_type": "stream",
     "text": [
      "INFO:tensorflow:Assets written to: Model_General/assets\n",
      "WARNING:absl:<__main__.Attention object at 0x7f8ce87d31c0> has the same name 'Attention' as a built-in Keras object. Consider renaming <class '__main__.Attention'> to avoid naming conflicts when loading with `tf.keras.models.load_model`. If renaming is not possible, pass the object in the `custom_objects` parameter of the load function.\n"
     ]
    },
    {
     "name": "stdout",
     "output_type": "stream",
     "text": [
      "58/58 [==============================] - 1164s 20s/step - loss: 0.5879 - val_loss: 0.5726 - lr: 0.0100\n",
      "Epoch 3/50\n",
      "58/58 [==============================] - ETA: 0s - loss: 0.5121 INFO:tensorflow:Assets written to: Model_General/assets\n"
     ]
    },
    {
     "name": "stderr",
     "output_type": "stream",
     "text": [
      "INFO:tensorflow:Assets written to: Model_General/assets\n",
      "WARNING:absl:<__main__.Attention object at 0x7f8ce87d31c0> has the same name 'Attention' as a built-in Keras object. Consider renaming <class '__main__.Attention'> to avoid naming conflicts when loading with `tf.keras.models.load_model`. If renaming is not possible, pass the object in the `custom_objects` parameter of the load function.\n"
     ]
    },
    {
     "name": "stdout",
     "output_type": "stream",
     "text": [
      "58/58 [==============================] - 1178s 20s/step - loss: 0.5121 - val_loss: 0.5216 - lr: 0.0100\n",
      "Epoch 4/50\n",
      "58/58 [==============================] - ETA: 0s - loss: 0.4725 INFO:tensorflow:Assets written to: Model_General/assets\n"
     ]
    },
    {
     "name": "stderr",
     "output_type": "stream",
     "text": [
      "INFO:tensorflow:Assets written to: Model_General/assets\n",
      "WARNING:absl:<__main__.Attention object at 0x7f8ce87d31c0> has the same name 'Attention' as a built-in Keras object. Consider renaming <class '__main__.Attention'> to avoid naming conflicts when loading with `tf.keras.models.load_model`. If renaming is not possible, pass the object in the `custom_objects` parameter of the load function.\n"
     ]
    },
    {
     "name": "stdout",
     "output_type": "stream",
     "text": [
      "58/58 [==============================] - 1216s 21s/step - loss: 0.4725 - val_loss: 0.4987 - lr: 0.0100\n",
      "Epoch 5/50\n",
      "58/58 [==============================] - ETA: 0s - loss: 0.4436 INFO:tensorflow:Assets written to: Model_General/assets\n"
     ]
    },
    {
     "name": "stderr",
     "output_type": "stream",
     "text": [
      "INFO:tensorflow:Assets written to: Model_General/assets\n",
      "WARNING:absl:<__main__.Attention object at 0x7f8ce87d31c0> has the same name 'Attention' as a built-in Keras object. Consider renaming <class '__main__.Attention'> to avoid naming conflicts when loading with `tf.keras.models.load_model`. If renaming is not possible, pass the object in the `custom_objects` parameter of the load function.\n"
     ]
    },
    {
     "name": "stdout",
     "output_type": "stream",
     "text": [
      "58/58 [==============================] - 1111s 19s/step - loss: 0.4436 - val_loss: 0.4798 - lr: 0.0100\n",
      "Epoch 6/50\n",
      "58/58 [==============================] - ETA: 0s - loss: 0.4204 INFO:tensorflow:Assets written to: Model_General/assets\n"
     ]
    },
    {
     "name": "stderr",
     "output_type": "stream",
     "text": [
      "INFO:tensorflow:Assets written to: Model_General/assets\n",
      "WARNING:absl:<__main__.Attention object at 0x7f8ce87d31c0> has the same name 'Attention' as a built-in Keras object. Consider renaming <class '__main__.Attention'> to avoid naming conflicts when loading with `tf.keras.models.load_model`. If renaming is not possible, pass the object in the `custom_objects` parameter of the load function.\n"
     ]
    },
    {
     "name": "stdout",
     "output_type": "stream",
     "text": [
      "58/58 [==============================] - 1096s 19s/step - loss: 0.4204 - val_loss: 0.4572 - lr: 0.0100\n",
      "Epoch 7/50\n",
      "58/58 [==============================] - ETA: 0s - loss: 0.4020 INFO:tensorflow:Assets written to: Model_General/assets\n"
     ]
    },
    {
     "name": "stderr",
     "output_type": "stream",
     "text": [
      "INFO:tensorflow:Assets written to: Model_General/assets\n",
      "WARNING:absl:<__main__.Attention object at 0x7f8ce87d31c0> has the same name 'Attention' as a built-in Keras object. Consider renaming <class '__main__.Attention'> to avoid naming conflicts when loading with `tf.keras.models.load_model`. If renaming is not possible, pass the object in the `custom_objects` parameter of the load function.\n"
     ]
    },
    {
     "name": "stdout",
     "output_type": "stream",
     "text": [
      "58/58 [==============================] - 1099s 19s/step - loss: 0.4020 - val_loss: 0.4480 - lr: 0.0100\n",
      "Epoch 8/50\n",
      "58/58 [==============================] - ETA: 0s - loss: 0.3861 INFO:tensorflow:Assets written to: Model_General/assets\n"
     ]
    },
    {
     "name": "stderr",
     "output_type": "stream",
     "text": [
      "INFO:tensorflow:Assets written to: Model_General/assets\n",
      "WARNING:absl:<__main__.Attention object at 0x7f8ce87d31c0> has the same name 'Attention' as a built-in Keras object. Consider renaming <class '__main__.Attention'> to avoid naming conflicts when loading with `tf.keras.models.load_model`. If renaming is not possible, pass the object in the `custom_objects` parameter of the load function.\n"
     ]
    },
    {
     "name": "stdout",
     "output_type": "stream",
     "text": [
      "58/58 [==============================] - 1098s 19s/step - loss: 0.3861 - val_loss: 0.4350 - lr: 0.0100\n",
      "Epoch 9/50\n",
      "58/58 [==============================] - ETA: 0s - loss: 0.3733 INFO:tensorflow:Assets written to: Model_General/assets\n"
     ]
    },
    {
     "name": "stderr",
     "output_type": "stream",
     "text": [
      "INFO:tensorflow:Assets written to: Model_General/assets\n",
      "WARNING:absl:<__main__.Attention object at 0x7f8ce87d31c0> has the same name 'Attention' as a built-in Keras object. Consider renaming <class '__main__.Attention'> to avoid naming conflicts when loading with `tf.keras.models.load_model`. If renaming is not possible, pass the object in the `custom_objects` parameter of the load function.\n"
     ]
    },
    {
     "name": "stdout",
     "output_type": "stream",
     "text": [
      "58/58 [==============================] - 1102s 19s/step - loss: 0.3733 - val_loss: 0.4297 - lr: 0.0100\n",
      "Epoch 10/50\n",
      "58/58 [==============================] - ETA: 0s - loss: 0.3623 INFO:tensorflow:Assets written to: Model_General/assets\n"
     ]
    },
    {
     "name": "stderr",
     "output_type": "stream",
     "text": [
      "INFO:tensorflow:Assets written to: Model_General/assets\n",
      "WARNING:absl:<__main__.Attention object at 0x7f8ce87d31c0> has the same name 'Attention' as a built-in Keras object. Consider renaming <class '__main__.Attention'> to avoid naming conflicts when loading with `tf.keras.models.load_model`. If renaming is not possible, pass the object in the `custom_objects` parameter of the load function.\n"
     ]
    },
    {
     "name": "stdout",
     "output_type": "stream",
     "text": [
      "58/58 [==============================] - 1106s 19s/step - loss: 0.3623 - val_loss: 0.4234 - lr: 0.0100\n",
      "Epoch 11/50\n",
      "58/58 [==============================] - ETA: 0s - loss: 0.3534 INFO:tensorflow:Assets written to: Model_General/assets\n"
     ]
    },
    {
     "name": "stderr",
     "output_type": "stream",
     "text": [
      "INFO:tensorflow:Assets written to: Model_General/assets\n",
      "WARNING:absl:<__main__.Attention object at 0x7f8ce87d31c0> has the same name 'Attention' as a built-in Keras object. Consider renaming <class '__main__.Attention'> to avoid naming conflicts when loading with `tf.keras.models.load_model`. If renaming is not possible, pass the object in the `custom_objects` parameter of the load function.\n"
     ]
    },
    {
     "name": "stdout",
     "output_type": "stream",
     "text": [
      "58/58 [==============================] - 1092s 19s/step - loss: 0.3534 - val_loss: 0.4192 - lr: 0.0100\n",
      "Epoch 12/50\n",
      "58/58 [==============================] - ETA: 0s - loss: 0.3460 \n",
      "Epoch 12: ReduceLROnPlateau reducing learning rate to 0.004999999888241291.\n",
      "58/58 [==============================] - 1044s 18s/step - loss: 0.3460 - val_loss: 0.4251 - lr: 0.0100\n",
      "Epoch 13/50\n",
      "58/58 [==============================] - ETA: 0s - loss: 0.3148 INFO:tensorflow:Assets written to: Model_General/assets\n"
     ]
    },
    {
     "name": "stderr",
     "output_type": "stream",
     "text": [
      "INFO:tensorflow:Assets written to: Model_General/assets\n",
      "WARNING:absl:<__main__.Attention object at 0x7f8ce87d31c0> has the same name 'Attention' as a built-in Keras object. Consider renaming <class '__main__.Attention'> to avoid naming conflicts when loading with `tf.keras.models.load_model`. If renaming is not possible, pass the object in the `custom_objects` parameter of the load function.\n"
     ]
    },
    {
     "name": "stdout",
     "output_type": "stream",
     "text": [
      "58/58 [==============================] - 1107s 19s/step - loss: 0.3148 - val_loss: 0.3846 - lr: 0.0050\n",
      "Epoch 14/50\n",
      "58/58 [==============================] - ETA: 0s - loss: 0.2941 INFO:tensorflow:Assets written to: Model_General/assets\n"
     ]
    },
    {
     "name": "stderr",
     "output_type": "stream",
     "text": [
      "INFO:tensorflow:Assets written to: Model_General/assets\n",
      "WARNING:absl:<__main__.Attention object at 0x7f8ce87d31c0> has the same name 'Attention' as a built-in Keras object. Consider renaming <class '__main__.Attention'> to avoid naming conflicts when loading with `tf.keras.models.load_model`. If renaming is not possible, pass the object in the `custom_objects` parameter of the load function.\n"
     ]
    },
    {
     "name": "stdout",
     "output_type": "stream",
     "text": [
      "58/58 [==============================] - 1099s 19s/step - loss: 0.2941 - val_loss: 0.3805 - lr: 0.0050\n",
      "Epoch 15/50\n",
      "58/58 [==============================] - ETA: 0s - loss: 0.2858 INFO:tensorflow:Assets written to: Model_General/assets\n"
     ]
    },
    {
     "name": "stderr",
     "output_type": "stream",
     "text": [
      "INFO:tensorflow:Assets written to: Model_General/assets\n",
      "WARNING:absl:<__main__.Attention object at 0x7f8ce87d31c0> has the same name 'Attention' as a built-in Keras object. Consider renaming <class '__main__.Attention'> to avoid naming conflicts when loading with `tf.keras.models.load_model`. If renaming is not possible, pass the object in the `custom_objects` parameter of the load function.\n"
     ]
    },
    {
     "name": "stdout",
     "output_type": "stream",
     "text": [
      "58/58 [==============================] - 1092s 19s/step - loss: 0.2858 - val_loss: 0.3770 - lr: 0.0050\n",
      "Epoch 16/50\n",
      "58/58 [==============================] - ETA: 0s - loss: 0.2805 INFO:tensorflow:Assets written to: Model_General/assets\n"
     ]
    },
    {
     "name": "stderr",
     "output_type": "stream",
     "text": [
      "INFO:tensorflow:Assets written to: Model_General/assets\n",
      "WARNING:absl:<__main__.Attention object at 0x7f8ce87d31c0> has the same name 'Attention' as a built-in Keras object. Consider renaming <class '__main__.Attention'> to avoid naming conflicts when loading with `tf.keras.models.load_model`. If renaming is not possible, pass the object in the `custom_objects` parameter of the load function.\n"
     ]
    },
    {
     "name": "stdout",
     "output_type": "stream",
     "text": [
      "58/58 [==============================] - 1095s 19s/step - loss: 0.2805 - val_loss: 0.3754 - lr: 0.0050\n",
      "Epoch 17/50\n",
      "58/58 [==============================] - ETA: 0s - loss: 0.2747 INFO:tensorflow:Assets written to: Model_General/assets\n"
     ]
    },
    {
     "name": "stderr",
     "output_type": "stream",
     "text": [
      "INFO:tensorflow:Assets written to: Model_General/assets\n",
      "WARNING:absl:<__main__.Attention object at 0x7f8ce87d31c0> has the same name 'Attention' as a built-in Keras object. Consider renaming <class '__main__.Attention'> to avoid naming conflicts when loading with `tf.keras.models.load_model`. If renaming is not possible, pass the object in the `custom_objects` parameter of the load function.\n"
     ]
    },
    {
     "name": "stdout",
     "output_type": "stream",
     "text": [
      "58/58 [==============================] - 1085s 19s/step - loss: 0.2747 - val_loss: 0.3717 - lr: 0.0050\n",
      "Epoch 18/50\n",
      "58/58 [==============================] - ETA: 0s - loss: 0.2679 \n",
      "Epoch 18: ReduceLROnPlateau reducing learning rate to 0.0024999999441206455.\n",
      "58/58 [==============================] - 1064s 18s/step - loss: 0.2679 - val_loss: 0.3754 - lr: 0.0050\n",
      "Epoch 19/50\n",
      "58/58 [==============================] - ETA: 0s - loss: 0.2439 INFO:tensorflow:Assets written to: Model_General/assets\n"
     ]
    },
    {
     "name": "stderr",
     "output_type": "stream",
     "text": [
      "INFO:tensorflow:Assets written to: Model_General/assets\n",
      "WARNING:absl:<__main__.Attention object at 0x7f8ce87d31c0> has the same name 'Attention' as a built-in Keras object. Consider renaming <class '__main__.Attention'> to avoid naming conflicts when loading with `tf.keras.models.load_model`. If renaming is not possible, pass the object in the `custom_objects` parameter of the load function.\n"
     ]
    },
    {
     "name": "stdout",
     "output_type": "stream",
     "text": [
      "58/58 [==============================] - 1103s 19s/step - loss: 0.2439 - val_loss: 0.3456 - lr: 0.0025\n",
      "Epoch 20/50\n",
      "58/58 [==============================] - ETA: 0s - loss: 0.2279 INFO:tensorflow:Assets written to: Model_General/assets\n"
     ]
    },
    {
     "name": "stderr",
     "output_type": "stream",
     "text": [
      "INFO:tensorflow:Assets written to: Model_General/assets\n",
      "WARNING:absl:<__main__.Attention object at 0x7f8ce87d31c0> has the same name 'Attention' as a built-in Keras object. Consider renaming <class '__main__.Attention'> to avoid naming conflicts when loading with `tf.keras.models.load_model`. If renaming is not possible, pass the object in the `custom_objects` parameter of the load function.\n"
     ]
    },
    {
     "name": "stdout",
     "output_type": "stream",
     "text": [
      "58/58 [==============================] - 1098s 19s/step - loss: 0.2279 - val_loss: 0.3409 - lr: 0.0025\n",
      "Epoch 21/50\n",
      "58/58 [==============================] - ETA: 0s - loss: 0.2207 \n",
      "Epoch 21: ReduceLROnPlateau reducing learning rate to 0.0012499999720603228.\n",
      "58/58 [==============================] - 1075s 19s/step - loss: 0.2207 - val_loss: 0.3413 - lr: 0.0025\n",
      "Epoch 22/50\n",
      "58/58 [==============================] - ETA: 0s - loss: 0.2066 INFO:tensorflow:Assets written to: Model_General/assets\n"
     ]
    },
    {
     "name": "stderr",
     "output_type": "stream",
     "text": [
      "INFO:tensorflow:Assets written to: Model_General/assets\n",
      "WARNING:absl:<__main__.Attention object at 0x7f8ce87d31c0> has the same name 'Attention' as a built-in Keras object. Consider renaming <class '__main__.Attention'> to avoid naming conflicts when loading with `tf.keras.models.load_model`. If renaming is not possible, pass the object in the `custom_objects` parameter of the load function.\n"
     ]
    },
    {
     "name": "stdout",
     "output_type": "stream",
     "text": [
      "58/58 [==============================] - 1085s 19s/step - loss: 0.2066 - val_loss: 0.3330 - lr: 0.0012\n",
      "Epoch 23/50\n",
      "58/58 [==============================] - ETA: 0s - loss: 0.1976 INFO:tensorflow:Assets written to: Model_General/assets\n"
     ]
    },
    {
     "name": "stderr",
     "output_type": "stream",
     "text": [
      "INFO:tensorflow:Assets written to: Model_General/assets\n",
      "WARNING:absl:<__main__.Attention object at 0x7f8ce87d31c0> has the same name 'Attention' as a built-in Keras object. Consider renaming <class '__main__.Attention'> to avoid naming conflicts when loading with `tf.keras.models.load_model`. If renaming is not possible, pass the object in the `custom_objects` parameter of the load function.\n"
     ]
    },
    {
     "name": "stdout",
     "output_type": "stream",
     "text": [
      "58/58 [==============================] - 1108s 19s/step - loss: 0.1976 - val_loss: 0.3316 - lr: 0.0012\n",
      "Epoch 24/50\n",
      "58/58 [==============================] - ETA: 0s - loss: 0.1927 \n",
      "Epoch 24: ReduceLROnPlateau reducing learning rate to 0.0006249999860301614.\n",
      "58/58 [==============================] - 1108s 19s/step - loss: 0.1927 - val_loss: 0.3321 - lr: 0.0012\n",
      "Epoch 25/50\n",
      "58/58 [==============================] - ETA: 0s - loss: 0.1849 INFO:tensorflow:Assets written to: Model_General/assets\n"
     ]
    },
    {
     "name": "stderr",
     "output_type": "stream",
     "text": [
      "INFO:tensorflow:Assets written to: Model_General/assets\n",
      "WARNING:absl:<__main__.Attention object at 0x7f8ce87d31c0> has the same name 'Attention' as a built-in Keras object. Consider renaming <class '__main__.Attention'> to avoid naming conflicts when loading with `tf.keras.models.load_model`. If renaming is not possible, pass the object in the `custom_objects` parameter of the load function.\n"
     ]
    },
    {
     "name": "stdout",
     "output_type": "stream",
     "text": [
      "58/58 [==============================] - 1196s 21s/step - loss: 0.1849 - val_loss: 0.3278 - lr: 6.2500e-04\n",
      "Epoch 26/50\n",
      "58/58 [==============================] - ETA: 0s - loss: 0.1801 \n",
      "Epoch 26: ReduceLROnPlateau reducing learning rate to 0.0003124999930150807.\n",
      "58/58 [==============================] - 1168s 20s/step - loss: 0.1801 - val_loss: 0.3288 - lr: 6.2500e-04\n",
      "Epoch 27/50\n",
      "58/58 [==============================] - ETA: 0s - loss: 0.1758 INFO:tensorflow:Assets written to: Model_General/assets\n"
     ]
    },
    {
     "name": "stderr",
     "output_type": "stream",
     "text": [
      "INFO:tensorflow:Assets written to: Model_General/assets\n",
      "WARNING:absl:<__main__.Attention object at 0x7f8ce87d31c0> has the same name 'Attention' as a built-in Keras object. Consider renaming <class '__main__.Attention'> to avoid naming conflicts when loading with `tf.keras.models.load_model`. If renaming is not possible, pass the object in the `custom_objects` parameter of the load function.\n"
     ]
    },
    {
     "name": "stdout",
     "output_type": "stream",
     "text": [
      "58/58 [==============================] - 1171s 20s/step - loss: 0.1758 - val_loss: 0.3273 - lr: 3.1250e-04\n",
      "Epoch 28/50\n",
      "58/58 [==============================] - ETA: 0s - loss: 0.1733 \n",
      "Epoch 28: ReduceLROnPlateau reducing learning rate to 0.00015624999650754035.\n",
      "58/58 [==============================] - 1224s 21s/step - loss: 0.1733 - val_loss: 0.3274 - lr: 3.1250e-04\n",
      "Epoch 29/50\n",
      "58/58 [==============================] - ETA: 0s - loss: 0.1711 \n",
      "Epoch 29: ReduceLROnPlateau reducing learning rate to 0.0001.\n",
      "58/58 [==============================] - 1129s 19s/step - loss: 0.1711 - val_loss: 0.3282 - lr: 1.5625e-04\n",
      "Epoch 30/50\n",
      "58/58 [==============================] - ETA: 0s - loss: 0.1697 Restoring model weights from the end of the best epoch: 27.\n",
      "58/58 [==============================] - 1189s 20s/step - loss: 0.1697 - val_loss: 0.3280 - lr: 1.0000e-04\n",
      "Epoch 30: early stopping\n",
      "Model: \"attention__based__encoder__decoder_1\"\n",
      "_________________________________________________________________\n",
      " Layer (type)                Output Shape              Param #   \n",
      "=================================================================\n",
      " encoder_1 (Encoder)         multiple                  566332    \n",
      "                                                                 \n",
      " decoder_1 (Decoder)         multiple                  782649    \n",
      "                                                                 \n",
      "=================================================================\n",
      "Total params: 1348981 (5.15 MB)\n",
      "Trainable params: 1348981 (5.15 MB)\n",
      "Non-trainable params: 0 (0.00 Byte)\n",
      "_________________________________________________________________\n"
     ]
    }
   ],
   "source": [
    "tf.random.set_seed(859)\n",
    "# Defining model instance with 'general' scoring function\n",
    "model_general  = Attention_Based_Encoder_Decoder(input_length = MAX_LEN, inp_vocab_size = vocab_size_informal,\n",
    "                                             out_vocab_size = vocab_size_formal, lstm_size = UNITS,\n",
    "                                             scoring_function = 'general', batch_size = BATCH_SIZE,\n",
    "                                             embedding_dim = vocab_size_formal, embedding_matrix = None)\n",
    "# Compiling the model using 'adam' optimizer and custom loss function\n",
    "optimizer = tf.keras.optimizers.Adam(0.01)\n",
    "model_general.compile(optimizer = optimizer, loss = loss_function)\n",
    "# Creating callbacks to control model training\n",
    "tensorboard_cb = create_tensorboard_cb(\"Model_General_logs\")\n",
    "checkpoint_cb = tf.keras.callbacks.ModelCheckpoint(\"Model_General\",\n",
    "                                                    save_best_only = True, save_weights_only = False)\n",
    "# Fitting the model on training data\n",
    "model_general.fit(train_dataloader, steps_per_epoch = TRAIN_STEPS, epochs = EPOCHS,\n",
    "              callbacks = [learning_rate_cb, tensorboard_cb, stopper_cb, checkpoint_cb],\n",
    "              validation_data = validation_dataloader, validation_steps = VALID_STEPS)\n",
    "model_general.summary()"
   ]
  },
  {
   "cell_type": "markdown",
   "metadata": {
    "id": "HFQSDmSMeLxx"
   },
   "source": [
    "<h3>Calculating the BLEU Score:</h3>"
   ]
  },
  {
   "cell_type": "code",
   "execution_count": 26,
   "metadata": {
    "colab": {
     "base_uri": "https://localhost:8080/"
    },
    "executionInfo": {
     "elapsed": 141227,
     "status": "ok",
     "timestamp": 1625411659702,
     "user": {
      "displayName": "Bhaiya Mail",
      "photoUrl": "",
      "userId": "14007713349458994505"
     },
     "user_tz": -330
    },
    "id": "h_SNdd9rE3B3",
    "outputId": "ea974fdd-5303-4915-bdb3-01738f7c60ea"
   },
   "outputs": [
    {
     "name": "stdout",
     "output_type": "stream",
     "text": [
      "Mean Bleu score of predictions: 0.0010483416318006874\n"
     ]
    }
   ],
   "source": [
    "# Removing '<' and '>' tokens and postprocessing punctuations to make plain texts\n",
    "def rem(s):\n",
    "    if s.startswith('<'):\n",
    "        s = s[1:]\n",
    "    if s.endswith('>'):\n",
    "        s = s[:-1]\n",
    "    return s\n",
    "test['informals'] = test['encoder_inp'].apply(rem)\n",
    "test['formals'] = test['decoder_inp'].apply(rem)\n",
    "\n",
    "def predictor(s):\n",
    "    # Modifing predictor using general scoring function\n",
    "    result = predict(s, model_general)\n",
    "    return result\n",
    "test['predictions'] = test['informals'].apply(predictor)\n",
    "\n",
    "# Process inputs for Bleu score\n",
    "def convert_formals(s):\n",
    "    return [s.split()]\n",
    "def convert_predictions(s):\n",
    "    return s.split()\n",
    "test['formals'] = test['formals'].apply(convert_formals)\n",
    "test['predictions'] = test['predictions'].apply(convert_predictions)\n",
    "bleu_scores_gen = [sentence_bleu(test['formals'].iloc[i], test['predictions'].iloc[i]) for i in range(len(test))]\n",
    "print(f\"Mean Bleu score of predictions: {np.mean(bleu_scores_gen)}\")"
   ]
  },
  {
   "cell_type": "code",
   "execution_count": 27,
   "metadata": {
    "colab": {
     "base_uri": "https://localhost:8080/"
    },
    "executionInfo": {
     "elapsed": 130740,
     "status": "ok",
     "timestamp": 1625413087274,
     "user": {
      "displayName": "Bhaiya Mail",
      "photoUrl": "",
      "userId": "14007713349458994505"
     },
     "user_tz": -330
    },
    "id": "qFVnb_72AC-4",
    "outputId": "69008ad2-a4fe-467f-96c8-3ade68435255"
   },
   "outputs": [
    {
     "data": {
      "image/png": "[encoded data removed]",
      "text/plain": [
       "<Figure size 360x360 with 1 Axes>"
      ]
     },
     "metadata": {
      "needs_background": "light"
     },
     "output_type": "display_data"
    }
   ],
   "source": [
    "plt.figure(figsize = (5, 5))\n",
    "ax = sns.distplot(bleu_scores_gen, hist = False, kde = True, kde_kws = {'shade': True, 'linewidth': 2}, color = \"green\")\n",
    "plt.title(\"Distribution of Bleu Scores by General Model\", fontdict = title_font, pad = 20.0)\n",
    "plt.xlabel(\"Bleu Score\", fontdict = label_font)\n",
    "plt.ylabel(\"Count\", fontdict = label_font)\n",
    "for label in (ax.get_xticklabels() + ax.get_yticklabels()):\n",
    "    label.set_fontname('Arial')\n",
    "    label.set_fontsize(14)\n",
    "plt.show()"
   ]
  },
  {
   "cell_type": "code",
   "execution_count": 28,
   "metadata": {
    "colab": {
     "base_uri": "https://localhost:8080/"
    },
    "executionInfo": {
     "elapsed": 367,
     "status": "ok",
     "timestamp": 1625411775821,
     "user": {
      "displayName": "Bhaiya Mail",
      "photoUrl": "",
      "userId": "14007713349458994505"
     },
     "user_tz": -330
    },
    "id": "niI0pMf3Fh-i",
    "outputId": "11fb0826-e0eb-4073-8e04-1e54b123e3ad"
   },
   "outputs": [
    {
     "name": "stdout",
     "output_type": "stream",
     "text": [
      "Informal Sentence: how r u\n",
      "Formal Prediction: Hi! Elanger.\n"
     ]
    }
   ],
   "source": [
    "print(\"Informal Sentence: how r u\")\n",
    "print(f\"Formal Prediction: {predict('how r u', model_general)}\")"
   ]
  },
  {
   "cell_type": "markdown",
   "metadata": {
    "id": "_46ABQK5eLxy"
   },
   "source": [
    "<h2>Training the Model using Concat Scoring Function:</h2>"
   ]
  },
  {
   "cell_type": "markdown",
   "metadata": {
    "id": "9tNgPLgZeLxy"
   },
   "source": [
    "<h3>Compiling and Fitting the model:</h3>"
   ]
  },
  {
   "cell_type": "code",
   "execution_count": 29,
   "metadata": {
    "colab": {
     "base_uri": "https://localhost:8080/"
    },
    "executionInfo": {
     "elapsed": 2547899,
     "status": "ok",
     "timestamp": 1625402365698,
     "user": {
      "displayName": "Bhaiya Mail",
      "photoUrl": "",
      "userId": "14007713349458994505"
     },
     "user_tz": -330
    },
    "id": "0q8Bqfb1UwXi",
    "outputId": "f1c8c499-c78b-4272-a897-6e21faa4ebe8"
   },
   "outputs": [
    {
     "name": "stdout",
     "output_type": "stream",
     "text": [
      "Epoch 1/50\n",
      "58/58 [==============================] - ETA: 0s - loss: 0.8543 INFO:tensorflow:Assets written to: Model_Concat/assets\n"
     ]
    },
    {
     "name": "stderr",
     "output_type": "stream",
     "text": [
      "INFO:tensorflow:Assets written to: Model_Concat/assets\n",
      "WARNING:absl:<__main__.Attention object at 0x7f8bcf5db1f0> has the same name 'Attention' as a built-in Keras object. Consider renaming <class '__main__.Attention'> to avoid naming conflicts when loading with `tf.keras.models.load_model`. If renaming is not possible, pass the object in the `custom_objects` parameter of the load function.\n"
     ]
    },
    {
     "name": "stdout",
     "output_type": "stream",
     "text": [
      "58/58 [==============================] - 1349s 23s/step - loss: 0.8543 - val_loss: 0.6588 - lr: 0.0100\n",
      "Epoch 2/50\n",
      "58/58 [==============================] - ETA: 0s - loss: 0.5709 INFO:tensorflow:Assets written to: Model_Concat/assets\n"
     ]
    },
    {
     "name": "stderr",
     "output_type": "stream",
     "text": [
      "INFO:tensorflow:Assets written to: Model_Concat/assets\n",
      "WARNING:absl:<__main__.Attention object at 0x7f8bcf5db1f0> has the same name 'Attention' as a built-in Keras object. Consider renaming <class '__main__.Attention'> to avoid naming conflicts when loading with `tf.keras.models.load_model`. If renaming is not possible, pass the object in the `custom_objects` parameter of the load function.\n"
     ]
    },
    {
     "name": "stdout",
     "output_type": "stream",
     "text": [
      "58/58 [==============================] - 1349s 23s/step - loss: 0.5709 - val_loss: 0.5532 - lr: 0.0100\n",
      "Epoch 3/50\n",
      "58/58 [==============================] - ETA: 0s - loss: 0.4929 INFO:tensorflow:Assets written to: Model_Concat/assets\n"
     ]
    },
    {
     "name": "stderr",
     "output_type": "stream",
     "text": [
      "INFO:tensorflow:Assets written to: Model_Concat/assets\n",
      "WARNING:absl:<__main__.Attention object at 0x7f8bcf5db1f0> has the same name 'Attention' as a built-in Keras object. Consider renaming <class '__main__.Attention'> to avoid naming conflicts when loading with `tf.keras.models.load_model`. If renaming is not possible, pass the object in the `custom_objects` parameter of the load function.\n"
     ]
    },
    {
     "name": "stdout",
     "output_type": "stream",
     "text": [
      "58/58 [==============================] - 1352s 23s/step - loss: 0.4929 - val_loss: 0.4932 - lr: 0.0100\n",
      "Epoch 4/50\n",
      "58/58 [==============================] - ETA: 0s - loss: 0.4461 INFO:tensorflow:Assets written to: Model_Concat/assets\n"
     ]
    },
    {
     "name": "stderr",
     "output_type": "stream",
     "text": [
      "INFO:tensorflow:Assets written to: Model_Concat/assets\n",
      "WARNING:absl:<__main__.Attention object at 0x7f8bcf5db1f0> has the same name 'Attention' as a built-in Keras object. Consider renaming <class '__main__.Attention'> to avoid naming conflicts when loading with `tf.keras.models.load_model`. If renaming is not possible, pass the object in the `custom_objects` parameter of the load function.\n"
     ]
    },
    {
     "name": "stdout",
     "output_type": "stream",
     "text": [
      "58/58 [==============================] - 1357s 23s/step - loss: 0.4461 - val_loss: 0.4626 - lr: 0.0100\n",
      "Epoch 5/50\n",
      "58/58 [==============================] - ETA: 0s - loss: 0.4080 INFO:tensorflow:Assets written to: Model_Concat/assets\n"
     ]
    },
    {
     "name": "stderr",
     "output_type": "stream",
     "text": [
      "INFO:tensorflow:Assets written to: Model_Concat/assets\n",
      "WARNING:absl:<__main__.Attention object at 0x7f8bcf5db1f0> has the same name 'Attention' as a built-in Keras object. Consider renaming <class '__main__.Attention'> to avoid naming conflicts when loading with `tf.keras.models.load_model`. If renaming is not possible, pass the object in the `custom_objects` parameter of the load function.\n"
     ]
    },
    {
     "name": "stdout",
     "output_type": "stream",
     "text": [
      "58/58 [==============================] - 1373s 24s/step - loss: 0.4080 - val_loss: 0.4530 - lr: 0.0100\n",
      "Epoch 6/50\n",
      "58/58 [==============================] - ETA: 0s - loss: 0.3728 INFO:tensorflow:Assets written to: Model_Concat/assets\n"
     ]
    },
    {
     "name": "stderr",
     "output_type": "stream",
     "text": [
      "INFO:tensorflow:Assets written to: Model_Concat/assets\n",
      "WARNING:absl:<__main__.Attention object at 0x7f8bcf5db1f0> has the same name 'Attention' as a built-in Keras object. Consider renaming <class '__main__.Attention'> to avoid naming conflicts when loading with `tf.keras.models.load_model`. If renaming is not possible, pass the object in the `custom_objects` parameter of the load function.\n"
     ]
    },
    {
     "name": "stdout",
     "output_type": "stream",
     "text": [
      "58/58 [==============================] - 1410s 24s/step - loss: 0.3728 - val_loss: 0.4478 - lr: 0.0100\n",
      "Epoch 7/50\n",
      "58/58 [==============================] - ETA: 0s - loss: 0.3416 INFO:tensorflow:Assets written to: Model_Concat/assets\n"
     ]
    },
    {
     "name": "stderr",
     "output_type": "stream",
     "text": [
      "INFO:tensorflow:Assets written to: Model_Concat/assets\n",
      "WARNING:absl:<__main__.Attention object at 0x7f8bcf5db1f0> has the same name 'Attention' as a built-in Keras object. Consider renaming <class '__main__.Attention'> to avoid naming conflicts when loading with `tf.keras.models.load_model`. If renaming is not possible, pass the object in the `custom_objects` parameter of the load function.\n"
     ]
    },
    {
     "name": "stdout",
     "output_type": "stream",
     "text": [
      "58/58 [==============================] - 1409s 24s/step - loss: 0.3416 - val_loss: 0.4293 - lr: 0.0100\n",
      "Epoch 8/50\n",
      "58/58 [==============================] - ETA: 0s - loss: 0.3111 \n",
      "Epoch 8: ReduceLROnPlateau reducing learning rate to 0.004999999888241291.\n",
      "58/58 [==============================] - 1382s 24s/step - loss: 0.3111 - val_loss: 0.4387 - lr: 0.0100\n",
      "Epoch 9/50\n",
      "58/58 [==============================] - ETA: 0s - loss: 0.2405 INFO:tensorflow:Assets written to: Model_Concat/assets\n"
     ]
    },
    {
     "name": "stderr",
     "output_type": "stream",
     "text": [
      "INFO:tensorflow:Assets written to: Model_Concat/assets\n",
      "WARNING:absl:<__main__.Attention object at 0x7f8bcf5db1f0> has the same name 'Attention' as a built-in Keras object. Consider renaming <class '__main__.Attention'> to avoid naming conflicts when loading with `tf.keras.models.load_model`. If renaming is not possible, pass the object in the `custom_objects` parameter of the load function.\n"
     ]
    },
    {
     "name": "stdout",
     "output_type": "stream",
     "text": [
      "58/58 [==============================] - 1392s 24s/step - loss: 0.2405 - val_loss: 0.4228 - lr: 0.0050\n",
      "Epoch 10/50\n",
      "58/58 [==============================] - ETA: 0s - loss: 0.1816 \n",
      "Epoch 10: ReduceLROnPlateau reducing learning rate to 0.0024999999441206455.\n",
      "58/58 [==============================] - 1411s 24s/step - loss: 0.1816 - val_loss: 0.4361 - lr: 0.0050\n",
      "Epoch 11/50\n",
      "58/58 [==============================] - ETA: 0s - loss: 0.1332 INFO:tensorflow:Assets written to: Model_Concat/assets\n"
     ]
    },
    {
     "name": "stderr",
     "output_type": "stream",
     "text": [
      "INFO:tensorflow:Assets written to: Model_Concat/assets\n",
      "WARNING:absl:<__main__.Attention object at 0x7f8bcf5db1f0> has the same name 'Attention' as a built-in Keras object. Consider renaming <class '__main__.Attention'> to avoid naming conflicts when loading with `tf.keras.models.load_model`. If renaming is not possible, pass the object in the `custom_objects` parameter of the load function.\n"
     ]
    },
    {
     "name": "stdout",
     "output_type": "stream",
     "text": [
      "58/58 [==============================] - 1418s 25s/step - loss: 0.1332 - val_loss: 0.4220 - lr: 0.0025\n",
      "Epoch 12/50\n",
      "58/58 [==============================] - ETA: 0s - loss: 0.1066 INFO:tensorflow:Assets written to: Model_Concat/assets\n"
     ]
    },
    {
     "name": "stderr",
     "output_type": "stream",
     "text": [
      "INFO:tensorflow:Assets written to: Model_Concat/assets\n",
      "WARNING:absl:<__main__.Attention object at 0x7f8bcf5db1f0> has the same name 'Attention' as a built-in Keras object. Consider renaming <class '__main__.Attention'> to avoid naming conflicts when loading with `tf.keras.models.load_model`. If renaming is not possible, pass the object in the `custom_objects` parameter of the load function.\n"
     ]
    },
    {
     "name": "stdout",
     "output_type": "stream",
     "text": [
      "58/58 [==============================] - 1411s 24s/step - loss: 0.1066 - val_loss: 0.4212 - lr: 0.0025\n",
      "Epoch 13/50\n",
      "58/58 [==============================] - ETA: 0s - loss: 0.0913 \n",
      "Epoch 13: ReduceLROnPlateau reducing learning rate to 0.0012499999720603228.\n",
      "58/58 [==============================] - 1405s 24s/step - loss: 0.0913 - val_loss: 0.4258 - lr: 0.0025\n",
      "Epoch 14/50\n",
      "58/58 [==============================] - ETA: 0s - loss: 0.0749 \n",
      "Epoch 14: ReduceLROnPlateau reducing learning rate to 0.0006249999860301614.\n",
      "58/58 [==============================] - 1397s 24s/step - loss: 0.0749 - val_loss: 0.4329 - lr: 0.0012\n",
      "Epoch 15/50\n",
      "58/58 [==============================] - ETA: 0s - loss: 0.0643 \n",
      "Epoch 15: ReduceLROnPlateau reducing learning rate to 0.0003124999930150807.\n",
      "Restoring model weights from the end of the best epoch: 12.\n",
      "58/58 [==============================] - 1464s 25s/step - loss: 0.0643 - val_loss: 0.4328 - lr: 6.2500e-04\n",
      "Epoch 15: early stopping\n",
      "Model: \"attention__based__encoder__decoder_2\"\n",
      "_________________________________________________________________\n",
      " Layer (type)                Output Shape              Param #   \n",
      "=================================================================\n",
      " encoder_2 (Encoder)         multiple                  566332    \n",
      "                                                                 \n",
      " decoder_2 (Decoder)         multiple                  823050    \n",
      "                                                                 \n",
      "=================================================================\n",
      "Total params: 1389382 (5.30 MB)\n",
      "Trainable params: 1389382 (5.30 MB)\n",
      "Non-trainable params: 0 (0.00 Byte)\n",
      "_________________________________________________________________\n"
     ]
    }
   ],
   "source": [
    "# Defining model instance with 'concat' scoring function\n",
    "model_concat  = Attention_Based_Encoder_Decoder(input_length = MAX_LEN, inp_vocab_size = vocab_size_informal,\n",
    "                                             out_vocab_size = vocab_size_formal, lstm_size = UNITS,\n",
    "                                             scoring_function = 'concat', batch_size = BATCH_SIZE,\n",
    "                                             embedding_dim = vocab_size_formal, embedding_matrix = None)\n",
    "# Compiling the model using 'adam' optimizer and custom loss function\n",
    "optimizer = tf.keras.optimizers.Adam(0.01)\n",
    "model_concat.compile(optimizer = optimizer, loss = loss_function)\n",
    "# Creating callbacks to control model training\n",
    "tensorboard_cb = create_tensorboard_cb(\"Model_Concat_logs\")\n",
    "checkpoint_cb = tf.keras.callbacks.ModelCheckpoint(\"Model_Concat\",\n",
    "                                                    save_best_only = True, save_weights_only = False)\n",
    "# Fitting the model on training data\n",
    "model_concat.fit(train_dataloader, steps_per_epoch = TRAIN_STEPS, epochs = EPOCHS,\n",
    "              callbacks = [learning_rate_cb, tensorboard_cb, stopper_cb, checkpoint_cb],\n",
    "              validation_data = validation_dataloader, validation_steps = VALID_STEPS)\n",
    "model_concat.summary()"
   ]
  },
  {
   "cell_type": "markdown",
   "metadata": {
    "id": "fkAj-LrUeLxz"
   },
   "source": [
    "<h3>Calculating the BLEU Score:</h3>"
   ]
  },
  {
   "cell_type": "code",
   "execution_count": 30,
   "metadata": {
    "colab": {
     "base_uri": "https://localhost:8080/"
    },
    "executionInfo": {
     "elapsed": 150429,
     "status": "ok",
     "timestamp": 1625403888816,
     "user": {
      "displayName": "Bhaiya Mail",
      "photoUrl": "",
      "userId": "14007713349458994505"
     },
     "user_tz": -330
    },
    "id": "10b2kaXJV0ey",
    "outputId": "b442a871-4b2f-4503-816e-baaf3cb87835"
   },
   "outputs": [
    {
     "name": "stdout",
     "output_type": "stream",
     "text": [
      "Mean Bleu score of predictions: 0.15375020282928567\n"
     ]
    }
   ],
   "source": [
    "# Removing '<' and '>' tokens and postprocessing punctuations to make plain texts\n",
    "def rem(s):\n",
    "    if s.startswith('<'):\n",
    "        s = s[1:]\n",
    "    if s.endswith('>'):\n",
    "        s = s[:-1]\n",
    "    return s\n",
    "test['informals'] = test['encoder_inp'].apply(rem)\n",
    "test['formals'] = test['decoder_inp'].apply(rem)\n",
    "\n",
    "def predictor(s):\n",
    "    # Modifing predictor using concat scoring function\n",
    "    result = predict(s, model_concat)\n",
    "    return result\n",
    "test['predictions'] = test['informals'].apply(predictor)\n",
    "# Process inputs for Bleu score\n",
    "\n",
    "def convert_formals(s):\n",
    "    return [s.split()]\n",
    "def convert_predictions(s):\n",
    "    return s.split()\n",
    "test['formals'] = test['formals'].apply(convert_formals)\n",
    "test['predictions'] = test['predictions'].apply(convert_predictions)\n",
    "bleu_scores_con = [sentence_bleu(test['formals'].iloc[i], test['predictions'].iloc[i]) for i in range(len(test))]\n",
    "print(f\"Mean Bleu score of predictions: {np.mean(bleu_scores_con)}\")"
   ]
  },
  {
   "cell_type": "code",
   "execution_count": 31,
   "metadata": {},
   "outputs": [
    {
     "data": {
      "image/png": "[encoded data removed]",
      "text/plain": [
       "<Figure size 360x360 with 1 Axes>"
      ]
     },
     "metadata": {
      "needs_background": "light"
     },
     "output_type": "display_data"
    }
   ],
   "source": [
    "plt.figure(figsize = (5, 5))\n",
    "ax = sns.distplot(bleu_scores_con, hist = False, kde = True, kde_kws = {'shade': True, 'linewidth': 2}, color = \"green\")\n",
    "plt.title(\"Distribution of Bleu Scores by Concat Model\", fontdict = title_font, pad = 20.0)\n",
    "plt.xlabel(\"Bleu Score\", fontdict = label_font)\n",
    "plt.ylabel(\"Count\", fontdict = label_font)\n",
    "for label in (ax.get_xticklabels() + ax.get_yticklabels()):\n",
    "    label.set_fontname('Arial')\n",
    "    label.set_fontsize(14)\n",
    "plt.show()"
   ]
  },
  {
   "cell_type": "code",
   "execution_count": 32,
   "metadata": {
    "colab": {
     "base_uri": "https://localhost:8080/"
    },
    "executionInfo": {
     "elapsed": 360,
     "status": "ok",
     "timestamp": 1625410019063,
     "user": {
      "displayName": "Bhaiya Mail",
      "photoUrl": "",
      "userId": "14007713349458994505"
     },
     "user_tz": -330
    },
    "id": "GIo5lb1GvjKt",
    "outputId": "7ddc86bb-af9b-46ee-8729-0dae203ed595"
   },
   "outputs": [
    {
     "name": "stdout",
     "output_type": "stream",
     "text": [
      "Informal Sentence: how r u\n",
      "Formal Prediction: By to you that right at that the trim at the trim at the trim at the trim at the trim at the trim at the trim at the trim at the trim at the trim at the trim at the trim at the trim at the trim at the\n"
     ]
    }
   ],
   "source": [
    "print(\"Informal Sentence: how r u\")\n",
    "print(f\"Formal Prediction: {predict('wat r ya talkin abt', model_concat)}\")"
   ]
  },
  {
   "cell_type": "markdown",
   "metadata": {},
   "source": [
    "<h2>9. Error Analysis:</h2>"
   ]
  },
  {
   "cell_type": "code",
   "execution_count": 33,
   "metadata": {},
   "outputs": [
    {
     "name": "stdout",
     "output_type": "stream",
     "text": [
      "Best Predictions:\n",
      "--------------------------------------------------\n",
      "Informal Input : Okay... But tues i've got dinner... So we can watch in the day lah... Dunno where's that wombat. So long still not back\n",
      "Expected Output : Okay. But Tuesday I've got dinner. So we can watch in the day. I don't know where is that wombat. So long still not back.\n",
      "Predicted Output : Ok. But the the that the books and that we can watch in the dancer. So long still not back the date first. So long who are you still not back.\n",
      "Bleu Score of Prediction : 0.201281593305732\n",
      "\n",
      "\n",
      "Informal Input : [\"Where ale you'll?\"]\n",
      "Expected Output : Where are you?\n",
      "Predicted Output : Where are you?\n",
      "Bleu Score of Prediction : 1.2213386697554703e-77\n",
      "\n",
      "\n",
      "Informal Input : ['May I kown how are youI?']\n",
      "Expected Output : May I know who are you?\n",
      "Predicted Output : May I know how are you?\n",
      "Bleu Score of Prediction : 5.775353993361614e-78\n",
      "\n",
      "\n",
      "Informal Input : ['Hey, are YOY dooing the English module theis semestre?']\n",
      "Expected Output : Hey, are you doing the English module this semester?\n",
      "Predicted Output : Hey, are you doing the enjoy the end them, see me to interest?\n",
      "Bleu Score of Prediction : 3.965294799986402e-78\n",
      "\n",
      "\n",
      "Informal Input : [\"I ' chiliad going to get something. Haha, ok, go through you.\"]\n",
      "Expected Output : I'm going to get something. Haha, ok, see you.\n",
      "Predicted Output : I'm going to get something. Haha, ok, go to get something. Haha, ok, go there.\n",
      "Bleu Score of Prediction : 3.661843723291765e-78\n",
      "\n",
      "\n",
      "====================================================================================================\n",
      "Worst Predictions:\n",
      "--------------------------------------------------\n",
      "Informal Input : around 615 lor\n",
      "Expected Output : Around 6:15.\n",
      "Predicted Output : Arour exrrong Porkek. Do your screar already already or arourd loor or arour 5 for more.\n",
      "Bleu Score of Prediction : 0.0\n",
      "\n",
      "\n",
      "Informal Input : [\"Corinna says prat. So I ' ll frame information technology.\"]\n",
      "Expected Output : Corinna says can. So I'll frame it.\n",
      "Predicted Output : Corring stuff in scart. So I'll frought.\n",
      "Bleu Score of Prediction : 0.0\n",
      "\n",
      "\n",
      "Informal Input : ['Hie eat his luchs already.']\n",
      "Expected Output : He eat his lunch already.\n",
      "Predicted Output : Hey early eat his lunch already.\n",
      "Bleu Score of Prediction : 0.0\n",
      "\n",
      "\n",
      "Informal Input : ['Dead. Missy you.']\n",
      "Expected Output : Dear. Miss you.\n",
      "Predicted Output : Dear. Missyand you.\n",
      "Bleu Score of Prediction : 0.0\n",
      "\n",
      "\n",
      "Informal Input : ['Sure. Sports meeting at rest home foremost?']\n",
      "Expected Output : Sure. Meet at home first?\n",
      "Predicted Output : Sure. Spore. Spored meeting at rest home for something?\n",
      "Bleu Score of Prediction : 0.0\n",
      "\n",
      "\n"
     ]
    }
   ],
   "source": [
    "# Sorting the indices by blue scores\n",
    "scores = np.array(bleu_scores_gen)\n",
    "indices = np.argsort(scores)\n",
    "\n",
    "# Getting worst score indices\n",
    "worst = indices[:5]\n",
    "\n",
    "# Getting best score indices\n",
    "best = indices[-5:][::-1]\n",
    "print('Best Predictions:')\n",
    "print(\"-\"*50)\n",
    "for i in best:\n",
    "    print(f\"Informal Input : {test['informals'].iloc[i]}\")\n",
    "    print(f\"Expected Output : {' '.join(test['formals'].iloc[i][0])}\")\n",
    "    print(f\"Predicted Output : {' '.join(test['predictions'].iloc[i])}\")\n",
    "    print(f\"Bleu Score of Prediction : {scores[i]}\")\n",
    "    print(\"\\n\")\n",
    "\n",
    "print('='*100)\n",
    "\n",
    "print('Worst Predictions:')\n",
    "print(\"-\"*50)\n",
    "for i in worst:\n",
    "    print(f\"Informal Input : {test['informals'].iloc[i]}\")\n",
    "    print(f\"Expected Output : {' '.join(test['formals'].iloc[i][0])}\")\n",
    "    print(f\"Predicted Output : {' '.join(test['predictions'].iloc[i])}\")\n",
    "    print(f\"Bleu Score of Prediction : {scores[i]}\")\n",
    "    print(\"\\n\")"
   ]
  },
  {
   "cell_type": "code",
   "execution_count": null,
   "metadata": {
    "id": "xdhzvjTv3d9x"
   },
   "outputs": [],
   "source": []
  }
 ],
 "metadata": {
  "accelerator": "GPU",
  "colab": {
   "collapsed_sections": [],
   "name": "________Attention_Model.ipynb",
   "provenance": []
  },
  "interpreter": {
   "hash": "f8165ba06ef4d1b8944ddab7bc27dc2417440af6c4fcab695d31da6788090849"
  },
  "kernelspec": {
   "display_name": "Python 3",
   "language": "python",
   "name": "python3"
  },
  "language_info": {
   "codemirror_mode": {
    "name": "ipython",
    "version": 3
   },
   "file_extension": ".py",
   "mimetype": "text/x-python",
   "name": "python",
   "nbconvert_exporter": "python",
   "pygments_lexer": "ipython3",
   "version": "3.8.8"
  }
 },
 "nbformat": 4,
 "nbformat_minor": 1
}
