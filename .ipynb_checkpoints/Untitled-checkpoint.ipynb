{
 "cells": [
  {
   "cell_type": "code",
   "execution_count": 1,
   "id": "eb2b556a",
   "metadata": {},
   "outputs": [],
   "source": [
    "import streamlit as st\n",
    "import joblib\n",
    "import tensorflow as tf"
   ]
  },
  {
   "cell_type": "code",
   "execution_count": 2,
   "id": "d7ed460e",
   "metadata": {},
   "outputs": [],
   "source": [
    "import streamlit as st\n",
    "import joblib\n",
    "import tensorflow as tf\n",
    "from tensorflow import keras\n",
    "from tensorflow import keras\n",
    "import pickle\n",
    "from tensorflow.keras.preprocessing import sequence\n",
    "\n",
    "# Defining Model Parameters\n",
    "MAX_LEN = 200\n",
    "UNITS = 256\n",
    "\n",
    "with open('tknizer_formal.pkl', 'rb') as f:\n",
    "    tknizer_formal = pickle.load(f)\n",
    "\n",
    "with open('tknizer_informal.pkl', 'rb') as f:\n",
    "    tknizer_informal = pickle.load(f)\n",
    "    \n"
   ]
  },
  {
   "cell_type": "code",
   "execution_count": 3,
   "id": "1ee29c1a",
   "metadata": {},
   "outputs": [],
   "source": [
    "\n",
    "# Defining Custom Loss Function\n",
    "loss_object = keras.losses.SparseCategoricalCrossentropy(from_logits = True, reduction = 'none')"
   ]
  },
  {
   "cell_type": "code",
   "execution_count": 4,
   "id": "d1c36a86",
   "metadata": {},
   "outputs": [],
   "source": [
    "\n",
    "@tf.function\n",
    "def loss_function(real, pred):\n",
    "    # Custom loss function that will not consider the loss for padded zeros.\n",
    "    # Refer https://www.tensorflow.org/tutorials/text/nmt_with_attention\n",
    "    # optimizer = tf.keras.optimizers.Adam()\n",
    "    mask = tf.math.logical_not(tf.math.equal(real, 0))\n",
    "    loss_ = loss_object(real, pred)\n",
    "    mask = tf.cast(mask, dtype=loss_.dtype)\n",
    "    loss_ *= mask\n",
    "    return tf.reduce_mean(loss_)\n",
    "\n",
    "# Loading trained model\n",
    "model = keras.models.load_model('Model_General', custom_objects={\"loss_function\": loss_function})"
   ]
  },
  {
   "cell_type": "code",
   "execution_count": 5,
   "id": "d567ff03",
   "metadata": {},
   "outputs": [],
   "source": [
    "def predict(input_sentence, model):\n",
    "    '''\n",
    "    Takes input sentence and model instance as inputs and predicts the output.\n",
    "    The prediction is done by using following steps:\n",
    "    Step A. Given input sentence, preprocess the punctuations, convert the sentence into integers using tokenizer used earlier.\n",
    "    Step B. Pass the input_sequence to encoder. we get encoder_outputs, last time step hidden and cell state\n",
    "    Step C. Initialize index of '<' as input to decoder. and encoder final states as input_states to decoder\n",
    "    Step D. Till we reach max_length of decoder or till the model predicted word '>':\n",
    "            pass the inputs to timestep decoder at each timestep, update the hidden states and get the output token\n",
    "    Step E. Return the predicted sentence.\n",
    "    '''\n",
    "    # Tokenizing and Padding the sentence\n",
    "    inputs = [tknizer_informal.word_index.get(i, 0) for i in input_sentence]\n",
    "    inputs = tf.keras.preprocessing.sequence.pad_sequences([inputs], maxlen = MAX_LEN, padding = 'post')\n",
    "    inputs = tf.convert_to_tensor(inputs)\n",
    "    \n",
    "    # Initializing result string and hidden states\n",
    "    result = ''\n",
    "    hidden = tf.zeros([1, UNITS]), tf.zeros([1, UNITS])\n",
    "    \n",
    "    # Getting Encoder outputs\n",
    "    enc_out, state_h, state_c = model.encoder([inputs, hidden])\n",
    "    dec_hidden = [state_h, state_c]\n",
    "    dec_input = tf.expand_dims([tknizer_formal.word_index['<']], 0)\n",
    "    \n",
    "    # Running loop until max length or the prediction is '>' token\n",
    "    for t in range(MAX_LEN):\n",
    "        # Getting Decoder outputs fot timestep t\n",
    "        output, state_h, state_c = model.decoder.timestepdecoder([dec_input, enc_out, state_h, state_c])\n",
    "        # Getting token index having highest probability\n",
    "        predicted_id = tf.argmax(output[0]).numpy()\n",
    "        # Getting output token\n",
    "        if tknizer_formal.index_word.get(predicted_id, '') == '>':\n",
    "            break\n",
    "        else:\n",
    "            result += tknizer_formal.index_word.get(predicted_id, '')\n",
    "            dec_input = tf.expand_dims([predicted_id], 0)\n",
    "    # Postprocessing the result string to remove spaces between punctuations\n",
    "    return result"
   ]
  },
  {
   "cell_type": "code",
   "execution_count": 6,
   "id": "4f7ab486",
   "metadata": {},
   "outputs": [
    {
     "name": "stderr",
     "output_type": "stream",
     "text": [
      "2024-03-25 15:39:21.925 \n",
      "  \u001b[33m\u001b[1mWarning:\u001b[0m to view this Streamlit app on a browser, run it with the following\n",
      "  command:\n",
      "\n",
      "    streamlit run /Users/rushabhkakadiya/opt/anaconda3/lib/python3.8/site-packages/ipykernel_launcher.py [ARGUMENTS]\n"
     ]
    }
   ],
   "source": [
    "# front end elements of the web page \n",
    "html_temp = \"\"\" \n",
    "    <div style =\"background-color:#7ff4c7;padding:13px\"> \n",
    "    <h1 style =\"color:black;text-align:center;\">Formalizing Informal Text using Natural Language Processing</h1> \n",
    "    </div> \n",
    "    \"\"\"\n",
    "      \n",
    "# display the front end aspect\n",
    "st.markdown(html_temp, unsafe_allow_html = True) \n",
    "      \n",
    "# following lines create boxes in which user can enter data required to make prediction \n",
    "Informal = st.text_input(\"Enter Text to be Formalized:\")\n",
    "result = \"\"\n",
    "      \n",
    "# when 'Predict' is clicked, make the prediction and store it \n",
    "if st.button(\"Predict\"): \n",
    "    result = predict(Informal,model) \n",
    "    st.success('Formalized Text is: {}'.format(result))"
   ]
  },
  {
   "cell_type": "code",
   "execution_count": null,
   "id": "af4d2e2c",
   "metadata": {},
   "outputs": [],
   "source": []
  }
 ],
 "metadata": {
  "kernelspec": {
   "display_name": "Python 3",
   "language": "python",
   "name": "python3"
  },
  "language_info": {
   "codemirror_mode": {
    "name": "ipython",
    "version": 3
   },
   "file_extension": ".py",
   "mimetype": "text/x-python",
   "name": "python",
   "nbconvert_exporter": "python",
   "pygments_lexer": "ipython3",
   "version": "3.8.8"
  }
 },
 "nbformat": 4,
 "nbformat_minor": 5
}
